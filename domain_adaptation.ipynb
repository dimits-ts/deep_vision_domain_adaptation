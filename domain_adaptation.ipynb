{
 "cells": [
  {
   "cell_type": "markdown",
   "metadata": {},
   "source": [
    "# Deep learning"
   ]
  },
  {
   "cell_type": "code",
   "execution_count": 1,
   "metadata": {
    "metadata": {}
   },
   "outputs": [
    {
     "name": "stdout",
     "output_type": "stream",
     "text": [
      "cuda:0\n"
     ]
    }
   ],
   "source": [
    "%load_ext autoreload\n",
    "%autoreload 2\n",
    "\n",
    "import tasks.data\n",
    "import tasks.torch_train_eval\n",
    "import tasks.adaptive_train_eval\n",
    "import tasks.calibration\n",
    "\n",
    "import torch\n",
    "import torchvision\n",
    "import torch.nn as nn\n",
    "import torch.optim as optim\n",
    "from tqdm.auto import tqdm\n",
    "import numpy as np\n",
    "import matplotlib.pyplot as plt\n",
    "import sklearn.metrics\n",
    "\n",
    "import random\n",
    "import os\n",
    "\n",
    "\n",
    "DATA_DIR = \"data/office\"\n",
    "OUTPUT_DIR = \"output\"\n",
    "\n",
    "SOURCE_DATASET = \"amazon\"\n",
    "SOURCE_VAL_SPLIT = .15\n",
    "SOURCE_TEST_SPLIT = .1\n",
    "\n",
    "TARGET_VAL_SPLIT = .15\n",
    "TARGET_TEST_SPLIT = .15\n",
    "TARGET_DATASET = \"webcam\"\n",
    "\n",
    "FINETUNED_MODEL_DIR = os.path.join(OUTPUT_DIR, \"classifier\")\n",
    "ADAPTIVE_MODEL_DIR = os.path.join(OUTPUT_DIR, \"adaptive\")\n",
    "\n",
    "FINETUNE_MODEL = False\n",
    "ADAPT_MODEL = True\n",
    "\n",
    "RANDOM_SEED = 42\n",
    "BATCH_SIZE = 3\n",
    "\n",
    "random.seed(RANDOM_SEED)\n",
    "np.random.seed(RANDOM_SEED)\n",
    "torch.manual_seed(RANDOM_SEED)\n",
    "\n",
    "device = torch.device(\"cuda:0\" if torch.cuda.is_available() else \"cpu\")\n",
    "print(device)"
   ]
  },
  {
   "cell_type": "code",
   "execution_count": 2,
   "metadata": {},
   "outputs": [],
   "source": [
    "import imageio.v2 as imageio\n",
    "from torchvision.transforms import v2\n",
    "\n",
    "\n",
    "def resnet_preprocessor(image: np.ndarray) -> np.ndarray:\n",
    "    \"\"\"\n",
    "    Preprocesses an image for ResNet model.\n",
    "\n",
    "    :param numpy.ndarray image: The input image.\n",
    "    :return: Preprocessed image.\n",
    "    :rtype: numpy.ndarray\n",
    "    \"\"\"\n",
    "    preprocess = torchvision.transforms.Compose(\n",
    "        [    \n",
    "            v2.ToImage(),\n",
    "            v2.ToDtype(torch.float32, scale=True),  # Normalize expects float input\n",
    "            v2.Normalize(\n",
    "                mean=[0.485, 0.456, 0.406], std=[0.229, 0.224, 0.225]\n",
    "            ),\n",
    "        ]\n",
    "    )\n",
    "\n",
    "    image = preprocess(image)\n",
    "    return image\n",
    "\n",
    "\n",
    "def image_read_func(image_path):\n",
    "    return imageio.imread(image_path, pilmode='RGB')\n"
   ]
  },
  {
   "cell_type": "code",
   "execution_count": 3,
   "metadata": {
    "metadata": {}
   },
   "outputs": [
    {
     "data": {
      "application/vnd.jupyter.widget-view+json": {
       "model_id": "b08e59786dc6456d84b4341b7de715ec",
       "version_major": 2,
       "version_minor": 0
      },
      "text/plain": [
       "  0%|          | 0/31 [00:00<?, ?it/s]"
      ]
     },
     "metadata": {},
     "output_type": "display_data"
    }
   ],
   "source": [
    "import random\n",
    "\n",
    "\n",
    "\n",
    "def train_val_test_split(\n",
    "    dataset: tasks.data.ImageDataset, val_ratio: float, test_ratio: float\n",
    "):\n",
    "    \"\"\"\n",
    "    Splits into pure ImageDataset objects, not Subsets, to allow for dynamic changes in the\n",
    "    underlying data using the custom class API.\n",
    "    \"\"\"\n",
    "    train_ratio = 1 - val_ratio - test_ratio\n",
    "\n",
    "    total_size = len(dataset)\n",
    "    train_size = int(train_ratio * total_size)\n",
    "    val_size = int(val_ratio * total_size)\n",
    "\n",
    "    # Split the dataset into train, validation, and test sets\n",
    "    train_dataset = tasks.data.ImageDataset(\n",
    "        parser_func=dataset.parser_func,\n",
    "        preprocessing_func=dataset.preprocessing_func,\n",
    "        label_encoder=dataset.label_encoder,\n",
    "    )\n",
    "    val_dataset = tasks.data.ImageDataset(\n",
    "        parser_func=dataset.parser_func,\n",
    "        preprocessing_func=dataset.preprocessing_func,\n",
    "        label_encoder=dataset.label_encoder,\n",
    "    )\n",
    "    test_dataset = tasks.data.ImageDataset(\n",
    "        parser_func=dataset.parser_func,\n",
    "        preprocessing_func=dataset.preprocessing_func,\n",
    "        label_encoder=dataset.label_encoder,\n",
    "    )\n",
    "\n",
    "    random.shuffle(dataset.samples)\n",
    "    for idx, sample in enumerate(dataset.samples):\n",
    "        if idx < train_size:\n",
    "            train_dataset.add(sample[0], sample[1])\n",
    "        elif idx < train_size + val_size:\n",
    "            val_dataset.add(sample[0], sample[1])\n",
    "        else:\n",
    "            test_dataset.add(sample[0], sample[1])\n",
    "\n",
    "    return train_dataset, val_dataset, test_dataset\n",
    "\n",
    "\n",
    "source_dataset = tasks.data.ImageDataset(\n",
    "    parser_func=image_read_func,\n",
    "    preprocessing_func=resnet_preprocessor,\n",
    ")\n",
    "source_dataset.load_from_directory(os.path.join(DATA_DIR, SOURCE_DATASET))\n",
    "\n",
    "source_train_dataset, source_val_dataset, source_test_dataset = train_val_test_split(\n",
    "    source_dataset, SOURCE_VAL_SPLIT, SOURCE_TEST_SPLIT\n",
    ")"
   ]
  },
  {
   "cell_type": "code",
   "execution_count": 4,
   "metadata": {},
   "outputs": [],
   "source": [
    "def create_padded_dataloader(\n",
    "    dataset: tasks.data.ImageDataset,\n",
    "    shuffle: bool = True,\n",
    "):\n",
    "    return torch.utils.data.DataLoader(\n",
    "        dataset,\n",
    "        batch_size=BATCH_SIZE,\n",
    "        shuffle=shuffle,\n",
    "        collate_fn=tasks.data.collate_pad,\n",
    "    )\n",
    "\n",
    "\n",
    "source_train_loader = create_padded_dataloader(source_train_dataset, shuffle=True)\n",
    "source_val_loader = create_padded_dataloader(source_val_dataset, shuffle=False)\n",
    "source_test_loader = create_padded_dataloader(source_test_dataset, shuffle=False)"
   ]
  },
  {
   "cell_type": "code",
   "execution_count": 5,
   "metadata": {},
   "outputs": [],
   "source": [
    "import pickle\n",
    "\n",
    "\n",
    "def try_load_weights(model, weights_path: str):\n",
    "    try:\n",
    "        model.load_state_dict(torch.load(weights_path))\n",
    "    except Exception as e:\n",
    "        print(\"Cannot load proper weights: \", e)\n",
    "    return model\n",
    "\n",
    "\n",
    "def try_load_history(history_path):\n",
    "    try:\n",
    "        with open(history_path, 'rb') as handle:\n",
    "            history = pickle.load(handle)\n",
    "    except:\n",
    "        print(\"No history found in path \", history_path)\n",
    "        history = None\n",
    "\n",
    "    return history"
   ]
  },
  {
   "cell_type": "code",
   "execution_count": 6,
   "metadata": {
    "metadata": {}
   },
   "outputs": [
    {
     "name": "stderr",
     "output_type": "stream",
     "text": [
      "Using cache found in /home/dimits/.cache/torch/hub/pytorch_vision_v0.10.0\n"
     ]
    },
    {
     "data": {
      "text/plain": [
       "==========================================================================================\n",
       "Layer (type:depth-idx)                   Output Shape              Param #\n",
       "==========================================================================================\n",
       "ResNet                                   [3, 1000]                 --\n",
       "├─Conv2d: 1-1                            [3, 64, 150, 150]         9,408\n",
       "├─BatchNorm2d: 1-2                       [3, 64, 150, 150]         128\n",
       "├─ReLU: 1-3                              [3, 64, 150, 150]         --\n",
       "├─MaxPool2d: 1-4                         [3, 64, 75, 75]           --\n",
       "├─Sequential: 1-5                        [3, 64, 75, 75]           --\n",
       "│    └─BasicBlock: 2-1                   [3, 64, 75, 75]           --\n",
       "│    │    └─Conv2d: 3-1                  [3, 64, 75, 75]           36,864\n",
       "│    │    └─BatchNorm2d: 3-2             [3, 64, 75, 75]           128\n",
       "│    │    └─ReLU: 3-3                    [3, 64, 75, 75]           --\n",
       "│    │    └─Conv2d: 3-4                  [3, 64, 75, 75]           36,864\n",
       "│    │    └─BatchNorm2d: 3-5             [3, 64, 75, 75]           128\n",
       "│    │    └─ReLU: 3-6                    [3, 64, 75, 75]           --\n",
       "│    └─BasicBlock: 2-2                   [3, 64, 75, 75]           --\n",
       "│    │    └─Conv2d: 3-7                  [3, 64, 75, 75]           36,864\n",
       "│    │    └─BatchNorm2d: 3-8             [3, 64, 75, 75]           128\n",
       "│    │    └─ReLU: 3-9                    [3, 64, 75, 75]           --\n",
       "│    │    └─Conv2d: 3-10                 [3, 64, 75, 75]           36,864\n",
       "│    │    └─BatchNorm2d: 3-11            [3, 64, 75, 75]           128\n",
       "│    │    └─ReLU: 3-12                   [3, 64, 75, 75]           --\n",
       "├─Sequential: 1-6                        [3, 128, 38, 38]          --\n",
       "│    └─BasicBlock: 2-3                   [3, 128, 38, 38]          --\n",
       "│    │    └─Conv2d: 3-13                 [3, 128, 38, 38]          73,728\n",
       "│    │    └─BatchNorm2d: 3-14            [3, 128, 38, 38]          256\n",
       "│    │    └─ReLU: 3-15                   [3, 128, 38, 38]          --\n",
       "│    │    └─Conv2d: 3-16                 [3, 128, 38, 38]          147,456\n",
       "│    │    └─BatchNorm2d: 3-17            [3, 128, 38, 38]          256\n",
       "│    │    └─Sequential: 3-18             [3, 128, 38, 38]          8,448\n",
       "│    │    └─ReLU: 3-19                   [3, 128, 38, 38]          --\n",
       "│    └─BasicBlock: 2-4                   [3, 128, 38, 38]          --\n",
       "│    │    └─Conv2d: 3-20                 [3, 128, 38, 38]          147,456\n",
       "│    │    └─BatchNorm2d: 3-21            [3, 128, 38, 38]          256\n",
       "│    │    └─ReLU: 3-22                   [3, 128, 38, 38]          --\n",
       "│    │    └─Conv2d: 3-23                 [3, 128, 38, 38]          147,456\n",
       "│    │    └─BatchNorm2d: 3-24            [3, 128, 38, 38]          256\n",
       "│    │    └─ReLU: 3-25                   [3, 128, 38, 38]          --\n",
       "├─Sequential: 1-7                        [3, 256, 19, 19]          --\n",
       "│    └─BasicBlock: 2-5                   [3, 256, 19, 19]          --\n",
       "│    │    └─Conv2d: 3-26                 [3, 256, 19, 19]          294,912\n",
       "│    │    └─BatchNorm2d: 3-27            [3, 256, 19, 19]          512\n",
       "│    │    └─ReLU: 3-28                   [3, 256, 19, 19]          --\n",
       "│    │    └─Conv2d: 3-29                 [3, 256, 19, 19]          589,824\n",
       "│    │    └─BatchNorm2d: 3-30            [3, 256, 19, 19]          512\n",
       "│    │    └─Sequential: 3-31             [3, 256, 19, 19]          33,280\n",
       "│    │    └─ReLU: 3-32                   [3, 256, 19, 19]          --\n",
       "│    └─BasicBlock: 2-6                   [3, 256, 19, 19]          --\n",
       "│    │    └─Conv2d: 3-33                 [3, 256, 19, 19]          589,824\n",
       "│    │    └─BatchNorm2d: 3-34            [3, 256, 19, 19]          512\n",
       "│    │    └─ReLU: 3-35                   [3, 256, 19, 19]          --\n",
       "│    │    └─Conv2d: 3-36                 [3, 256, 19, 19]          589,824\n",
       "│    │    └─BatchNorm2d: 3-37            [3, 256, 19, 19]          512\n",
       "│    │    └─ReLU: 3-38                   [3, 256, 19, 19]          --\n",
       "├─Sequential: 1-8                        [3, 512, 10, 10]          --\n",
       "│    └─BasicBlock: 2-7                   [3, 512, 10, 10]          --\n",
       "│    │    └─Conv2d: 3-39                 [3, 512, 10, 10]          1,179,648\n",
       "│    │    └─BatchNorm2d: 3-40            [3, 512, 10, 10]          1,024\n",
       "│    │    └─ReLU: 3-41                   [3, 512, 10, 10]          --\n",
       "│    │    └─Conv2d: 3-42                 [3, 512, 10, 10]          2,359,296\n",
       "│    │    └─BatchNorm2d: 3-43            [3, 512, 10, 10]          1,024\n",
       "│    │    └─Sequential: 3-44             [3, 512, 10, 10]          132,096\n",
       "│    │    └─ReLU: 3-45                   [3, 512, 10, 10]          --\n",
       "│    └─BasicBlock: 2-8                   [3, 512, 10, 10]          --\n",
       "│    │    └─Conv2d: 3-46                 [3, 512, 10, 10]          2,359,296\n",
       "│    │    └─BatchNorm2d: 3-47            [3, 512, 10, 10]          1,024\n",
       "│    │    └─ReLU: 3-48                   [3, 512, 10, 10]          --\n",
       "│    │    └─Conv2d: 3-49                 [3, 512, 10, 10]          2,359,296\n",
       "│    │    └─BatchNorm2d: 3-50            [3, 512, 10, 10]          1,024\n",
       "│    │    └─ReLU: 3-51                   [3, 512, 10, 10]          --\n",
       "├─AdaptiveAvgPool2d: 1-9                 [3, 512, 1, 1]            --\n",
       "├─Linear: 1-10                           [3, 1000]                 513,000\n",
       "==========================================================================================\n",
       "Total params: 11,689,512\n",
       "Trainable params: 11,689,512\n",
       "Non-trainable params: 0\n",
       "Total mult-adds (G): 10.18\n",
       "==========================================================================================\n",
       "Input size (MB): 3.24\n",
       "Forward/backward pass size (MB): 217.09\n",
       "Params size (MB): 46.76\n",
       "Estimated Total Size (MB): 267.09\n",
       "=========================================================================================="
      ]
     },
     "execution_count": 6,
     "metadata": {},
     "output_type": "execute_result"
    }
   ],
   "source": [
    "import torchinfo\n",
    "\n",
    "\n",
    "model = torch.hub.load(\n",
    "    \"pytorch/vision:v0.10.0\", \"resnet18\", weights=\"DEFAULT\"\n",
    ").to(device)\n",
    "model = try_load_weights(model, os.path.join(FINETUNED_MODEL_DIR, \"model.pt\"))\n",
    "\n",
    "torchinfo.summary(model, input_size=(BATCH_SIZE, 3, 300, 300))"
   ]
  },
  {
   "cell_type": "code",
   "execution_count": 7,
   "metadata": {
    "metadata": {}
   },
   "outputs": [],
   "source": [
    "criterion = nn.CrossEntropyLoss(label_smoothing=0.1)\n",
    "optimizer_ft = optim.Adam(model.parameters(), lr=0.0005)\n",
    "# disable lr for adam\n",
    "exp_lr_scheduler = optim.lr_scheduler.StepLR(optimizer_ft, step_size=100000, gamma=0.05)\n",
    "previous_history = try_load_history(os.path.join(FINETUNED_MODEL_DIR, \"history.pickle\"))\n",
    "\n",
    "\n",
    "if FINETUNE_MODEL:\n",
    "    model, history = tasks.torch_train_eval.train_model(\n",
    "        model,\n",
    "        criterion,\n",
    "        optimizer_ft,\n",
    "        exp_lr_scheduler,\n",
    "        device,\n",
    "        source_train_loader,\n",
    "        source_val_loader,\n",
    "        output_dir=FINETUNED_MODEL_DIR,\n",
    "        num_epochs=50,\n",
    "        patience=10,\n",
    "        warmup_period=25,\n",
    "        previous_history=previous_history\n",
    "    )\n",
    "else:\n",
    "    history = previous_history"
   ]
  },
  {
   "cell_type": "code",
   "execution_count": 8,
   "metadata": {
    "metadata": {}
   },
   "outputs": [
    {
     "data": {
      "image/png": "[encoded data removed]",
      "text/plain": [
       "<Figure size 640x480 with 1 Axes>"
      ]
     },
     "metadata": {},
     "output_type": "display_data"
    }
   ],
   "source": [
    "plt.plot(np.array(range(len(history[\"train_loss\"]))), history[\"train_loss\"])\n",
    "plt.plot(np.array(range(len(history[\"val_loss\"]))), history[\"val_loss\"])\n",
    "plt.xlabel(\"Epoch\")\n",
    "plt.ylabel(\"Cross Entropy Loss\")\n",
    "plt.title(\"Training loss\")\n",
    "plt.show()"
   ]
  },
  {
   "cell_type": "code",
   "execution_count": 9,
   "metadata": {
    "metadata": {}
   },
   "outputs": [
    {
     "data": {
      "image/png": "[encoded data removed]",
      "text/plain": [
       "<Figure size 640x480 with 1 Axes>"
      ]
     },
     "metadata": {},
     "output_type": "display_data"
    }
   ],
   "source": [
    "# validation accuracy has been calculated wrong here, ignore it for now\n",
    "plt.plot(np.array(range(len(history[\"train_acc\"]))), history[\"train_acc\"])\n",
    "plt.plot(np.array(range(len(history[\"val_acc\"]))), history[\"val_acc\"])\n",
    "\n",
    "plt.xlabel(\"Epoch\")\n",
    "plt.ylabel(\"Cross Entropy Loss\")\n",
    "plt.title(\"Training Accuracy\")\n",
    "plt.show()"
   ]
  },
  {
   "cell_type": "code",
   "execution_count": 10,
   "metadata": {
    "metadata": {}
   },
   "outputs": [
    {
     "data": {
      "application/vnd.jupyter.widget-view+json": {
       "model_id": "412f7a3d4ec7439c8158e6e7ba1590c1",
       "version_major": 2,
       "version_minor": 0
      },
      "text/plain": [
       "  0%|          | 0/95 [00:00<?, ?it/s]"
      ]
     },
     "metadata": {},
     "output_type": "display_data"
    },
    {
     "name": "stdout",
     "output_type": "stream",
     "text": [
      "                  precision    recall  f1-score   support\n",
      "\n",
      "       back_pack       0.78      1.00      0.88         7\n",
      "            bike       1.00      1.00      1.00         5\n",
      "     bike_helmet       1.00      1.00      1.00         7\n",
      "        bookcase       0.78      1.00      0.88         7\n",
      "          bottle       0.40      0.50      0.44         4\n",
      "      calculator       0.80      1.00      0.89         8\n",
      "      desk_chair       1.00      1.00      1.00        10\n",
      "       desk_lamp       0.88      0.88      0.88         8\n",
      "desktop_computer       0.86      0.46      0.60        13\n",
      "    file_cabinet       1.00      0.50      0.67        10\n",
      "      headphones       1.00      0.60      0.75         5\n",
      "        keyboard       0.87      0.76      0.81        17\n",
      " laptop_computer       1.00      0.92      0.96        13\n",
      "     letter_tray       1.00      0.50      0.67         6\n",
      "    mobile_phone       1.00      0.78      0.88         9\n",
      "         monitor       1.00      0.89      0.94         9\n",
      "           mouse       0.43      0.86      0.57         7\n",
      "             mug       1.00      0.73      0.84        11\n",
      "  paper_notebook       0.88      0.78      0.82         9\n",
      "             pen       0.57      0.67      0.62         6\n",
      "           phone       1.00      0.67      0.80         6\n",
      "         printer       0.88      0.78      0.82         9\n",
      "       projector       1.00      0.62      0.76        13\n",
      "        punchers       0.88      0.54      0.67        13\n",
      "     ring_binder       0.93      1.00      0.97        14\n",
      "           ruler       0.20      0.77      0.32        13\n",
      "        scissors       1.00      0.92      0.96        13\n",
      "         speaker       0.67      0.29      0.40         7\n",
      "         stapler       1.00      0.70      0.82        10\n",
      "  tape_dispenser       0.80      0.44      0.57         9\n",
      "       trash_can       0.75      0.60      0.67         5\n",
      "\n",
      "        accuracy                           0.75       283\n",
      "       macro avg       0.85      0.75      0.77       283\n",
      "    weighted avg       0.86      0.75      0.78       283\n",
      "\n"
     ]
    }
   ],
   "source": [
    "# save logits for later calibration\n",
    "source_actual, source_predicted = tasks.torch_train_eval.test(\n",
    "    model, source_test_loader, device\n",
    ")\n",
    "class_names = source_dataset.label_encoder.classes_\n",
    "\n",
    "print(\n",
    "    sklearn.metrics.classification_report(\n",
    "        source_actual,\n",
    "        source_predicted,\n",
    "        zero_division=0,\n",
    "        target_names=class_names,\n",
    "        labels=np.arange(0, len(class_names), 1),\n",
    "    )\n",
    ")"
   ]
  },
  {
   "cell_type": "code",
   "execution_count": 11,
   "metadata": {
    "metadata": {}
   },
   "outputs": [],
   "source": [
    "source_cf_matrix = sklearn.metrics.confusion_matrix(source_actual, source_predicted)\n",
    "display = sklearn.metrics.ConfusionMatrixDisplay(\n",
    "    confusion_matrix=source_cf_matrix, display_labels=class_names\n",
    ")\n",
    "display.plot()\n",
    "plt.xticks(rotation=90)\n",
    "plt.show()"
   ]
  },
  {
   "cell_type": "code",
   "execution_count": null,
   "metadata": {
    "metadata": {}
   },
   "outputs": [],
   "source": [
    "target_dataset = tasks.data.ImageDataset(\n",
    "    parser_func=image_read_func,\n",
    "    preprocessing_func=resnet_preprocessor,\n",
    "    label_encoder=source_dataset.label_encoder # use same classes\n",
    ")\n",
    "target_dataset.load_from_directory(os.path.join(DATA_DIR, TARGET_DATASET))\n",
    "\n",
    "target_train_dataset, target_val_dataset, target_test_dataset = train_val_test_split(\n",
    "    target_dataset, TARGET_VAL_SPLIT, TARGET_TEST_SPLIT\n",
    ")\n",
    "\n",
    "target_train_loader = create_padded_dataloader(target_train_dataset, shuffle=True)\n",
    "target_test_loader = create_padded_dataloader(target_test_dataset, shuffle=False)"
   ]
  },
  {
   "cell_type": "code",
   "execution_count": null,
   "metadata": {
    "metadata": {}
   },
   "outputs": [],
   "source": [
    "target_actual, target_predicted = tasks.torch_train_eval.test(model, target_test_loader, device)\n",
    "class_names = target_dataset.label_encoder.classes_\n",
    "\n",
    "print(\n",
    "    sklearn.metrics.classification_report(\n",
    "        target_actual,\n",
    "        target_predicted,\n",
    "        zero_division=0,\n",
    "        target_names=class_names,\n",
    "        labels=np.arange(0, len(class_names), 1),\n",
    "    )\n",
    ")"
   ]
  },
  {
   "cell_type": "code",
   "execution_count": null,
   "metadata": {
    "metadata": {}
   },
   "outputs": [],
   "source": [
    "target_cf_matrix = sklearn.metrics.confusion_matrix(target_actual, target_predicted, labels=np.arange(0, len(class_names), 1))\n",
    "display = sklearn.metrics.ConfusionMatrixDisplay(\n",
    "    confusion_matrix=target_cf_matrix, display_labels=class_names\n",
    ")\n",
    "display.plot()\n",
    "plt.xticks(rotation=90)\n",
    "plt.show()"
   ]
  },
  {
   "cell_type": "markdown",
   "metadata": {},
   "source": [
    "## Domain Adaptation"
   ]
  },
  {
   "cell_type": "code",
   "execution_count": null,
   "metadata": {
    "metadata": {}
   },
   "outputs": [],
   "source": [
    "unlabeled_dataset = tasks.data.UnlabeledImageDataset(\n",
    "    parser_func=image_read_func,\n",
    "    preprocessing_func=resnet_preprocessor,\n",
    ")\n",
    "unlabeled_dataset.load_from_image_dataset(target_train_dataset)\n",
    "\n",
    "source_history = try_load_history(os.path.join(ADAPTIVE_MODEL_DIR, \"source_history.pickle\"))\n",
    "target_history = try_load_history(os.path.join(ADAPTIVE_MODEL_DIR, \"target_history.pickle\"))"
   ]
  },
  {
   "cell_type": "code",
   "execution_count": null,
   "metadata": {
    "metadata": {}
   },
   "outputs": [],
   "source": [
    "if ADAPT_MODEL:\n",
    "    tasks.adaptive_train_eval.train_adaptive_model(\n",
    "        model=model,\n",
    "        criterion=criterion,\n",
    "        optimizer=optimizer_ft,\n",
    "        scheduler=exp_lr_scheduler,\n",
    "        device=device,\n",
    "        source_train_dataset=source_train_dataset,\n",
    "        source_val_dataset=source_val_dataset,\n",
    "        labeled_dataloader_initializer=lambda dataset: create_padded_dataloader(\n",
    "            dataset, shuffle=True\n",
    "        ),\n",
    "        unlabeled_dataloader_initializer=lambda dataset: torch.utils.data.DataLoader(\n",
    "            dataset, batch_size=1, shuffle=True\n",
    "        ),\n",
    "        target_train_dataset=unlabeled_dataset,\n",
    "        target_val_dataset=target_val_dataset,\n",
    "        output_dir=ADAPTIVE_MODEL_DIR,\n",
    "        num_epochs=20,\n",
    "        previous_source_history=source_history,\n",
    "        previous_target_history=target_history,\n",
    "    )"
   ]
  },
  {
   "cell_type": "markdown",
   "metadata": {},
   "source": [
    "## Dustbin"
   ]
  },
  {
   "cell_type": "raw",
   "metadata": {
    "vscode": {
     "languageId": "raw"
    }
   },
   "source": [
    "from tqdm.auto import tqdm\n",
    "\n",
    "output_ls = []\n",
    "# Iterate over batches\n",
    "for inputs, labels in tqdm(source_test_loader):\n",
    "    inputs = inputs.to(device)\n",
    "    labels = labels.to(device)\n",
    "\n",
    "    # Forward pass\n",
    "    with torch.no_grad():\n",
    "        output_ls.append(model(inputs))\n",
    "\n",
    "logits_list = torch.cat(output_ls)"
   ]
  },
  {
   "cell_type": "raw",
   "metadata": {
    "vscode": {
     "languageId": "raw"
    }
   },
   "source": [
    "%load_ext autoreload\n",
    "%autoreload 2\n",
    "\n",
    "\n",
    "import tasks\n",
    "import tasks.calibration\n",
    "\n",
    "tasks.calibration.reliability_diagram(\n",
    "    source_actual, source_predicted, np.array(tasks.calibration.T_scaling(logits_list.cpu(), 1))\n",
    ")"
   ]
  },
  {
   "cell_type": "raw",
   "metadata": {
    "vscode": {
     "languageId": "raw"
    }
   },
   "source": [
    "print(\"Calibrating ideal temperature...\")\n",
    "ideal_temperature = tasks.calibration.calibrate_temperature(\n",
    "    model, source_val_loader, criterion, device, iters=6\n",
    ")\n",
    "print(\"Ideal temperature \", ideal_temperature.item())"
   ]
  },
  {
   "cell_type": "raw",
   "metadata": {
    "vscode": {
     "languageId": "raw"
    }
   },
   "source": [
    "tasks.calibration.reliability_diagram(\n",
    "    source_actual,\n",
    "    source_predicted,\n",
    "    np.array(\n",
    "        tasks.calibration.T_scaling(\n",
    "            logits_list,\n",
    "            ideal_temperature,\n",
    "        ).detach().to(\"cpu\")\n",
    "    ),\n",
    ")"
   ]
  }
 ],
 "metadata": {
  "kernelspec": {
   "display_name": "tf",
   "language": "python",
   "name": "python3"
  },
  "language_info": {
   "codemirror_mode": {
    "name": "ipython",
    "version": 3
   },
   "file_extension": ".py",
   "mimetype": "text/x-python",
   "name": "python",
   "nbconvert_exporter": "python",
   "pygments_lexer": "ipython3",
   "version": "3.9.18"
  }
 },
 "nbformat": 4,
 "nbformat_minor": 2
}
