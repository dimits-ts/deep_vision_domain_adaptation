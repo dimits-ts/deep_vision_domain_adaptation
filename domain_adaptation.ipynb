{
 "cells": [
  {
   "cell_type": "markdown",
   "metadata": {},
   "source": [
    "# Deep learning"
   ]
  },
  {
   "cell_type": "code",
   "execution_count": 5,
   "metadata": {},
   "outputs": [],
   "source": [
    "import matplotlib\n",
    "from tqdm.auto import tqdm\n",
    "\n",
    "import os\n",
    "\n",
    "\n",
    "DATA_DIR = \"data/office\""
   ]
  },
  {
   "cell_type": "code",
   "execution_count": 3,
   "metadata": {},
   "outputs": [
    {
     "name": "stdout",
     "output_type": "stream",
     "text": [
      "tape_dispenser\n",
      "calculator\n",
      "file_cabinet\n",
      "mug\n",
      "keyboard\n",
      "pen\n",
      "bottle\n",
      "bike_helmet\n",
      "mouse\n",
      "trash_can\n",
      "scissors\n",
      "ruler\n",
      "ring_binder\n",
      "bike\n",
      "letter_tray\n",
      "headphones\n",
      "back_pack\n",
      "desktop_computer\n",
      "printer\n",
      "monitor\n",
      "paper_notebook\n",
      "desk_chair\n",
      "speaker\n",
      "phone\n",
      "laptop_computer\n",
      "stapler\n",
      "mobile_phone\n",
      "bookcase\n",
      "projector\n",
      "desk_lamp\n",
      "punchers\n"
     ]
    }
   ],
   "source": [
    "for name in os.listdir(\"data/office/amazon\"):\n",
    "    print(name)"
   ]
  },
  {
   "cell_type": "code",
   "execution_count": 11,
   "metadata": {},
   "outputs": [],
   "source": [
    "from typing import Callable\n",
    "import imageio.v2 as imageio\n",
    "\n",
    "\n",
    "def load_domain_dataset(data_path: str, domain_name: str, parser_func: Callable=imageio.imread):\n",
    "    data_dir = os.path.join(data_path, domain_name)\n",
    "    samples_dict = {}\n",
    "\n",
    "    for class_name in tqdm(os.listdir(data_dir)):\n",
    "        samples = []\n",
    "        class_data_dir = os.path.join(data_dir, class_name)\n",
    "\n",
    "        for file_name in os.listdir(class_data_dir):\n",
    "            samples.append(parser_func(os.path.join(class_data_dir, file_name)))\n",
    "\n",
    "        samples_dict[class_name] = samples\n",
    "    return samples_dict\n"
   ]
  },
  {
   "cell_type": "code",
   "execution_count": 12,
   "metadata": {},
   "outputs": [
    {
     "data": {
      "application/vnd.jupyter.widget-view+json": {
       "model_id": "720257c92f984c729e5d71e0ca39becd",
       "version_major": 2,
       "version_minor": 0
      },
      "text/plain": [
       "  0%|          | 0/31 [00:00<?, ?it/s]"
      ]
     },
     "metadata": {},
     "output_type": "display_data"
    }
   ],
   "source": [
    "amazon_dataset = load_domain_dataset(DATA_DIR, \"amazon\")"
   ]
  },
  {
   "cell_type": "code",
   "execution_count": 17,
   "metadata": {},
   "outputs": [
    {
     "name": "stdout",
     "output_type": "stream",
     "text": [
      "(300, 300, 3)\n",
      "234.77444074074074\n",
      "53.47359577625937\n"
     ]
    }
   ],
   "source": [
    "sample_image = amazon_dataset[\"bike\"][0]\n",
    "print(sample_image.shape)\n",
    "print(sample_image.mean())\n",
    "print(sample_image.std())"
   ]
  }
 ],
 "metadata": {
  "kernelspec": {
   "display_name": "tf",
   "language": "python",
   "name": "python3"
  },
  "language_info": {
   "codemirror_mode": {
    "name": "ipython",
    "version": 3
   },
   "file_extension": ".py",
   "mimetype": "text/x-python",
   "name": "python",
   "nbconvert_exporter": "python",
   "pygments_lexer": "ipython3",
   "version": "3.9.18"
  }
 },
 "nbformat": 4,
 "nbformat_minor": 2
}
