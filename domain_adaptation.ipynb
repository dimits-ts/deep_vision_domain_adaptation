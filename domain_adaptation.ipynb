{
 "cells": [
  {
   "cell_type": "markdown",
   "metadata": {},
   "source": [
    "# Deep learning"
   ]
  },
  {
   "cell_type": "code",
   "execution_count": 1,
   "metadata": {
    "metadata": {}
   },
   "outputs": [
    {
     "name": "stdout",
     "output_type": "stream",
     "text": [
      "cuda:0\n"
     ]
    }
   ],
   "source": [
    "%load_ext autoreload\n",
    "%autoreload 2\n",
    "\n",
    "import tasks.data\n",
    "import tasks.torch_train_eval\n",
    "import tasks.adaptive_train_eval\n",
    "import tasks.calibration\n",
    "\n",
    "import torch\n",
    "import torchvision\n",
    "import torch.nn as nn\n",
    "import torch.optim as optim\n",
    "from tqdm.auto import tqdm\n",
    "import numpy as np\n",
    "import matplotlib.pyplot as plt\n",
    "import sklearn.metrics\n",
    "\n",
    "import random\n",
    "import os\n",
    "\n",
    "\n",
    "DATA_DIR = \"data/office\"\n",
    "OUTPUT_DIR = \"output\"\n",
    "\n",
    "SOURCE_DATASET = \"amazon\"\n",
    "SOURCE_VAL_SPLIT = .15\n",
    "SOURCE_TEST_SPLIT = .1\n",
    "\n",
    "TARGET_VAL_SPLIT = .15\n",
    "TARGET_TEST_SPLIT = .15\n",
    "TARGET_DATASET = \"webcam\"\n",
    "\n",
    "FINETUNED_MODEL_DIR = os.path.join(OUTPUT_DIR, \"classifier\")\n",
    "ADAPTIVE_MODEL_DIR = os.path.join(OUTPUT_DIR, \"adaptive\")\n",
    "\n",
    "FINETUNE_MODEL = False\n",
    "ADAPT_MODEL = True\n",
    "\n",
    "RANDOM_SEED = 42\n",
    "BATCH_SIZE = 3\n",
    "\n",
    "random.seed(RANDOM_SEED)\n",
    "np.random.seed(RANDOM_SEED)\n",
    "torch.manual_seed(RANDOM_SEED)\n",
    "\n",
    "device = torch.device(\"cuda:0\" if torch.cuda.is_available() else \"cpu\")\n",
    "print(device)"
   ]
  },
  {
   "cell_type": "code",
   "execution_count": 2,
   "metadata": {},
   "outputs": [],
   "source": [
    "import imageio.v2 as imageio\n",
    "from torchvision.transforms import v2\n",
    "\n",
    "\n",
    "def resnet_preprocessor(image: np.ndarray) -> np.ndarray:\n",
    "    \"\"\"\n",
    "    Preprocesses an image for ResNet model.\n",
    "\n",
    "    :param numpy.ndarray image: The input image.\n",
    "    :return: Preprocessed image.\n",
    "    :rtype: numpy.ndarray\n",
    "    \"\"\"\n",
    "    preprocess = torchvision.transforms.Compose(\n",
    "        [    \n",
    "            v2.ToImage(),\n",
    "            v2.ToDtype(torch.float32, scale=True),  # Normalize expects float input\n",
    "            v2.Normalize(\n",
    "                mean=[0.485, 0.456, 0.406], std=[0.229, 0.224, 0.225]\n",
    "            ),\n",
    "        ]\n",
    "    )\n",
    "\n",
    "    image = preprocess(image)\n",
    "    return image\n",
    "\n",
    "\n",
    "def image_read_func(image_path):\n",
    "    return imageio.imread(image_path, pilmode='RGB')\n"
   ]
  },
  {
   "cell_type": "code",
   "execution_count": 3,
   "metadata": {
    "metadata": {}
   },
   "outputs": [
    {
     "data": {
      "application/vnd.jupyter.widget-view+json": {
       "model_id": "c1efc86d7d8e4e0281221e8be063447b",
       "version_major": 2,
       "version_minor": 0
      },
      "text/plain": [
       "  0%|          | 0/31 [00:00<?, ?it/s]"
      ]
     },
     "metadata": {},
     "output_type": "display_data"
    }
   ],
   "source": [
    "import random\n",
    "\n",
    "\n",
    "\n",
    "def train_val_test_split(\n",
    "    dataset: tasks.data.ImageDataset, val_ratio: float, test_ratio: float\n",
    "):\n",
    "    \"\"\"\n",
    "    Splits into pure ImageDataset objects, not Subsets, to allow for dynamic changes in the\n",
    "    underlying data using the custom class API.\n",
    "    \"\"\"\n",
    "    train_ratio = 1 - val_ratio - test_ratio\n",
    "\n",
    "    total_size = len(dataset)\n",
    "    train_size = int(train_ratio * total_size)\n",
    "    val_size = int(val_ratio * total_size)\n",
    "\n",
    "    # Split the dataset into train, validation, and test sets\n",
    "    train_dataset = tasks.data.ImageDataset(\n",
    "        parser_func=dataset.parser_func,\n",
    "        preprocessing_func=dataset.preprocessing_func,\n",
    "        label_encoder=dataset.label_encoder,\n",
    "    )\n",
    "    val_dataset = tasks.data.ImageDataset(\n",
    "        parser_func=dataset.parser_func,\n",
    "        preprocessing_func=dataset.preprocessing_func,\n",
    "        label_encoder=dataset.label_encoder,\n",
    "    )\n",
    "    test_dataset = tasks.data.ImageDataset(\n",
    "        parser_func=dataset.parser_func,\n",
    "        preprocessing_func=dataset.preprocessing_func,\n",
    "        label_encoder=dataset.label_encoder,\n",
    "    )\n",
    "\n",
    "    random.shuffle(dataset.samples)\n",
    "    for idx, sample in enumerate(dataset.samples):\n",
    "        if idx < train_size:\n",
    "            train_dataset.add(sample[0], sample[1])\n",
    "        elif idx < train_size + val_size:\n",
    "            val_dataset.add(sample[0], sample[1])\n",
    "        else:\n",
    "            test_dataset.add(sample[0], sample[1])\n",
    "\n",
    "    return train_dataset, val_dataset, test_dataset\n",
    "\n",
    "\n",
    "source_dataset = tasks.data.ImageDataset(\n",
    "    parser_func=image_read_func,\n",
    "    preprocessing_func=resnet_preprocessor,\n",
    ")\n",
    "source_dataset.load_from_directory(os.path.join(DATA_DIR, SOURCE_DATASET))\n",
    "\n",
    "source_train_dataset, source_val_dataset, source_test_dataset = train_val_test_split(\n",
    "    source_dataset, SOURCE_VAL_SPLIT, SOURCE_TEST_SPLIT\n",
    ")"
   ]
  },
  {
   "cell_type": "code",
   "execution_count": 4,
   "metadata": {},
   "outputs": [],
   "source": [
    "def create_padded_dataloader(\n",
    "    dataset: tasks.data.ImageDataset,\n",
    "    shuffle: bool = True,\n",
    "):\n",
    "    return torch.utils.data.DataLoader(\n",
    "        dataset,\n",
    "        batch_size=BATCH_SIZE,\n",
    "        shuffle=shuffle,\n",
    "        collate_fn=tasks.data.collate_pad,\n",
    "    )\n",
    "\n",
    "\n",
    "source_train_loader = create_padded_dataloader(source_train_dataset, shuffle=True)\n",
    "source_val_loader = create_padded_dataloader(source_val_dataset, shuffle=False)\n",
    "source_test_loader = create_padded_dataloader(source_test_dataset, shuffle=False)"
   ]
  },
  {
   "cell_type": "code",
   "execution_count": 5,
   "metadata": {},
   "outputs": [],
   "source": [
    "import pickle\n",
    "\n",
    "\n",
    "def try_load_weights(model, weights_path: str):\n",
    "    try:\n",
    "        model.load_state_dict(torch.load(weights_path))\n",
    "    except Exception as e:\n",
    "        print(\"Cannot load proper weights: \", e)\n",
    "    return model\n",
    "\n",
    "\n",
    "def try_load_history(history_path):\n",
    "    try:\n",
    "        with open(history_path, 'rb') as handle:\n",
    "            history = pickle.load(handle)\n",
    "    except:\n",
    "        print(\"No history found in path \", history_path)\n",
    "        history = None\n",
    "\n",
    "    return history"
   ]
  },
  {
   "cell_type": "code",
   "execution_count": 6,
   "metadata": {
    "metadata": {}
   },
   "outputs": [
    {
     "name": "stderr",
     "output_type": "stream",
     "text": [
      "Using cache found in /home/dimits/.cache/torch/hub/pytorch_vision_v0.10.0\n"
     ]
    },
    {
     "name": "stdout",
     "output_type": "stream",
     "text": [
      "Cannot load proper weights:  [Errno 2] No such file or directory: 'output/classifier/model.pt'\n"
     ]
    },
    {
     "data": {
      "text/plain": [
       "==========================================================================================\n",
       "Layer (type:depth-idx)                   Output Shape              Param #\n",
       "==========================================================================================\n",
       "ResNet                                   [3, 1000]                 --\n",
       "├─Conv2d: 1-1                            [3, 64, 150, 150]         9,408\n",
       "├─BatchNorm2d: 1-2                       [3, 64, 150, 150]         128\n",
       "├─ReLU: 1-3                              [3, 64, 150, 150]         --\n",
       "├─MaxPool2d: 1-4                         [3, 64, 75, 75]           --\n",
       "├─Sequential: 1-5                        [3, 64, 75, 75]           --\n",
       "│    └─BasicBlock: 2-1                   [3, 64, 75, 75]           --\n",
       "│    │    └─Conv2d: 3-1                  [3, 64, 75, 75]           36,864\n",
       "│    │    └─BatchNorm2d: 3-2             [3, 64, 75, 75]           128\n",
       "│    │    └─ReLU: 3-3                    [3, 64, 75, 75]           --\n",
       "│    │    └─Conv2d: 3-4                  [3, 64, 75, 75]           36,864\n",
       "│    │    └─BatchNorm2d: 3-5             [3, 64, 75, 75]           128\n",
       "│    │    └─ReLU: 3-6                    [3, 64, 75, 75]           --\n",
       "│    └─BasicBlock: 2-2                   [3, 64, 75, 75]           --\n",
       "│    │    └─Conv2d: 3-7                  [3, 64, 75, 75]           36,864\n",
       "│    │    └─BatchNorm2d: 3-8             [3, 64, 75, 75]           128\n",
       "│    │    └─ReLU: 3-9                    [3, 64, 75, 75]           --\n",
       "│    │    └─Conv2d: 3-10                 [3, 64, 75, 75]           36,864\n",
       "│    │    └─BatchNorm2d: 3-11            [3, 64, 75, 75]           128\n",
       "│    │    └─ReLU: 3-12                   [3, 64, 75, 75]           --\n",
       "├─Sequential: 1-6                        [3, 128, 38, 38]          --\n",
       "│    └─BasicBlock: 2-3                   [3, 128, 38, 38]          --\n",
       "│    │    └─Conv2d: 3-13                 [3, 128, 38, 38]          73,728\n",
       "│    │    └─BatchNorm2d: 3-14            [3, 128, 38, 38]          256\n",
       "│    │    └─ReLU: 3-15                   [3, 128, 38, 38]          --\n",
       "│    │    └─Conv2d: 3-16                 [3, 128, 38, 38]          147,456\n",
       "│    │    └─BatchNorm2d: 3-17            [3, 128, 38, 38]          256\n",
       "│    │    └─Sequential: 3-18             [3, 128, 38, 38]          8,448\n",
       "│    │    └─ReLU: 3-19                   [3, 128, 38, 38]          --\n",
       "│    └─BasicBlock: 2-4                   [3, 128, 38, 38]          --\n",
       "│    │    └─Conv2d: 3-20                 [3, 128, 38, 38]          147,456\n",
       "│    │    └─BatchNorm2d: 3-21            [3, 128, 38, 38]          256\n",
       "│    │    └─ReLU: 3-22                   [3, 128, 38, 38]          --\n",
       "│    │    └─Conv2d: 3-23                 [3, 128, 38, 38]          147,456\n",
       "│    │    └─BatchNorm2d: 3-24            [3, 128, 38, 38]          256\n",
       "│    │    └─ReLU: 3-25                   [3, 128, 38, 38]          --\n",
       "├─Sequential: 1-7                        [3, 256, 19, 19]          --\n",
       "│    └─BasicBlock: 2-5                   [3, 256, 19, 19]          --\n",
       "│    │    └─Conv2d: 3-26                 [3, 256, 19, 19]          294,912\n",
       "│    │    └─BatchNorm2d: 3-27            [3, 256, 19, 19]          512\n",
       "│    │    └─ReLU: 3-28                   [3, 256, 19, 19]          --\n",
       "│    │    └─Conv2d: 3-29                 [3, 256, 19, 19]          589,824\n",
       "│    │    └─BatchNorm2d: 3-30            [3, 256, 19, 19]          512\n",
       "│    │    └─Sequential: 3-31             [3, 256, 19, 19]          33,280\n",
       "│    │    └─ReLU: 3-32                   [3, 256, 19, 19]          --\n",
       "│    └─BasicBlock: 2-6                   [3, 256, 19, 19]          --\n",
       "│    │    └─Conv2d: 3-33                 [3, 256, 19, 19]          589,824\n",
       "│    │    └─BatchNorm2d: 3-34            [3, 256, 19, 19]          512\n",
       "│    │    └─ReLU: 3-35                   [3, 256, 19, 19]          --\n",
       "│    │    └─Conv2d: 3-36                 [3, 256, 19, 19]          589,824\n",
       "│    │    └─BatchNorm2d: 3-37            [3, 256, 19, 19]          512\n",
       "│    │    └─ReLU: 3-38                   [3, 256, 19, 19]          --\n",
       "├─Sequential: 1-8                        [3, 512, 10, 10]          --\n",
       "│    └─BasicBlock: 2-7                   [3, 512, 10, 10]          --\n",
       "│    │    └─Conv2d: 3-39                 [3, 512, 10, 10]          1,179,648\n",
       "│    │    └─BatchNorm2d: 3-40            [3, 512, 10, 10]          1,024\n",
       "│    │    └─ReLU: 3-41                   [3, 512, 10, 10]          --\n",
       "│    │    └─Conv2d: 3-42                 [3, 512, 10, 10]          2,359,296\n",
       "│    │    └─BatchNorm2d: 3-43            [3, 512, 10, 10]          1,024\n",
       "│    │    └─Sequential: 3-44             [3, 512, 10, 10]          132,096\n",
       "│    │    └─ReLU: 3-45                   [3, 512, 10, 10]          --\n",
       "│    └─BasicBlock: 2-8                   [3, 512, 10, 10]          --\n",
       "│    │    └─Conv2d: 3-46                 [3, 512, 10, 10]          2,359,296\n",
       "│    │    └─BatchNorm2d: 3-47            [3, 512, 10, 10]          1,024\n",
       "│    │    └─ReLU: 3-48                   [3, 512, 10, 10]          --\n",
       "│    │    └─Conv2d: 3-49                 [3, 512, 10, 10]          2,359,296\n",
       "│    │    └─BatchNorm2d: 3-50            [3, 512, 10, 10]          1,024\n",
       "│    │    └─ReLU: 3-51                   [3, 512, 10, 10]          --\n",
       "├─AdaptiveAvgPool2d: 1-9                 [3, 512, 1, 1]            --\n",
       "├─Linear: 1-10                           [3, 1000]                 513,000\n",
       "==========================================================================================\n",
       "Total params: 11,689,512\n",
       "Trainable params: 11,689,512\n",
       "Non-trainable params: 0\n",
       "Total mult-adds (G): 10.18\n",
       "==========================================================================================\n",
       "Input size (MB): 3.24\n",
       "Forward/backward pass size (MB): 217.09\n",
       "Params size (MB): 46.76\n",
       "Estimated Total Size (MB): 267.09\n",
       "=========================================================================================="
      ]
     },
     "execution_count": 6,
     "metadata": {},
     "output_type": "execute_result"
    }
   ],
   "source": [
    "import torchinfo\n",
    "\n",
    "\n",
    "model = torch.hub.load(\n",
    "    \"pytorch/vision:v0.10.0\", \"resnet18\", weights=\"DEFAULT\"\n",
    ").to(device)\n",
    "model = try_load_weights(model, os.path.join(FINETUNED_MODEL_DIR, \"model.pt\"))\n",
    "\n",
    "torchinfo.summary(model, input_size=(BATCH_SIZE, 3, 300, 300))"
   ]
  },
  {
   "cell_type": "code",
   "execution_count": 7,
   "metadata": {
    "metadata": {}
   },
   "outputs": [
    {
     "name": "stdout",
     "output_type": "stream",
     "text": [
      "No history found in path  output/classifier/history.pickle\n",
      "Epoch 0/49\n",
      "----------\n"
     ]
    },
    {
     "data": {
      "application/vnd.jupyter.widget-view+json": {
       "model_id": "b2ec29f233354f5e82b403de9bec56f6",
       "version_major": 2,
       "version_minor": 0
      },
      "text/plain": [
       "  0%|          | 0/704 [00:00<?, ?it/s]"
      ]
     },
     "metadata": {},
     "output_type": "display_data"
    },
    {
     "data": {
      "application/vnd.jupyter.widget-view+json": {
       "model_id": "0d542eb9ac644db1bbdca6ca384716c8",
       "version_major": 2,
       "version_minor": 0
      },
      "text/plain": [
       "  0%|          | 0/141 [00:00<?, ?it/s]"
      ]
     },
     "metadata": {},
     "output_type": "display_data"
    },
    {
     "name": "stdout",
     "output_type": "stream",
     "text": [
      "Train Loss: 3.9709 Train Acc: 0.1439\n",
      "Val Loss: 3.6070 Val Acc: 0.2464\n",
      "Epoch 1/49\n",
      "----------\n"
     ]
    },
    {
     "data": {
      "application/vnd.jupyter.widget-view+json": {
       "model_id": "3d37b47f6a8346788b20f11372294e91",
       "version_major": 2,
       "version_minor": 0
      },
      "text/plain": [
       "  0%|          | 0/704 [00:00<?, ?it/s]"
      ]
     },
     "metadata": {},
     "output_type": "display_data"
    },
    {
     "data": {
      "application/vnd.jupyter.widget-view+json": {
       "model_id": "04037686508d47339b42021671865f1b",
       "version_major": 2,
       "version_minor": 0
      },
      "text/plain": [
       "  0%|          | 0/141 [00:00<?, ?it/s]"
      ]
     },
     "metadata": {},
     "output_type": "display_data"
    },
    {
     "name": "stdout",
     "output_type": "stream",
     "text": [
      "Train Loss: 3.3639 Train Acc: 0.2623\n",
      "Val Loss: 3.9256 Val Acc: 0.3412\n",
      "Epoch 2/49\n",
      "----------\n"
     ]
    },
    {
     "data": {
      "application/vnd.jupyter.widget-view+json": {
       "model_id": "d297c3cb3dfb4ce7843baa931641d857",
       "version_major": 2,
       "version_minor": 0
      },
      "text/plain": [
       "  0%|          | 0/704 [00:00<?, ?it/s]"
      ]
     },
     "metadata": {},
     "output_type": "display_data"
    },
    {
     "data": {
      "application/vnd.jupyter.widget-view+json": {
       "model_id": "348282499e704a5193ae7cbe38650162",
       "version_major": 2,
       "version_minor": 0
      },
      "text/plain": [
       "  0%|          | 0/141 [00:00<?, ?it/s]"
      ]
     },
     "metadata": {},
     "output_type": "display_data"
    },
    {
     "name": "stdout",
     "output_type": "stream",
     "text": [
      "Train Loss: 2.9541 Train Acc: 0.3835\n",
      "Val Loss: 3.9823 Val Acc: 0.4384\n",
      "Epoch 3/49\n",
      "----------\n"
     ]
    },
    {
     "data": {
      "application/vnd.jupyter.widget-view+json": {
       "model_id": "53ff0feb48e14d6f9f5914808f89e983",
       "version_major": 2,
       "version_minor": 0
      },
      "text/plain": [
       "  0%|          | 0/704 [00:00<?, ?it/s]"
      ]
     },
     "metadata": {},
     "output_type": "display_data"
    },
    {
     "data": {
      "application/vnd.jupyter.widget-view+json": {
       "model_id": "890fc1b37e304898aa9b0647d318d8dd",
       "version_major": 2,
       "version_minor": 0
      },
      "text/plain": [
       "  0%|          | 0/141 [00:00<?, ?it/s]"
      ]
     },
     "metadata": {},
     "output_type": "display_data"
    },
    {
     "name": "stdout",
     "output_type": "stream",
     "text": [
      "Train Loss: 2.6896 Train Acc: 0.4787\n",
      "Val Loss: 3.1819 Val Acc: 0.5948\n",
      "Epoch 4/49\n",
      "----------\n"
     ]
    },
    {
     "data": {
      "application/vnd.jupyter.widget-view+json": {
       "model_id": "a9f99b3fbf9a494bab52918c83452ea6",
       "version_major": 2,
       "version_minor": 0
      },
      "text/plain": [
       "  0%|          | 0/704 [00:00<?, ?it/s]"
      ]
     },
     "metadata": {},
     "output_type": "display_data"
    },
    {
     "data": {
      "application/vnd.jupyter.widget-view+json": {
       "model_id": "4227e81787464cf4a51478d8f561017d",
       "version_major": 2,
       "version_minor": 0
      },
      "text/plain": [
       "  0%|          | 0/141 [00:00<?, ?it/s]"
      ]
     },
     "metadata": {},
     "output_type": "display_data"
    },
    {
     "name": "stdout",
     "output_type": "stream",
     "text": [
      "Train Loss: 2.3875 Train Acc: 0.5961\n",
      "Val Loss: 2.8100 Val Acc: 0.6469\n",
      "Epoch 5/49\n",
      "----------\n"
     ]
    },
    {
     "data": {
      "application/vnd.jupyter.widget-view+json": {
       "model_id": "669b026cb9ad4b86af43e33e0aae7e0c",
       "version_major": 2,
       "version_minor": 0
      },
      "text/plain": [
       "  0%|          | 0/704 [00:00<?, ?it/s]"
      ]
     },
     "metadata": {},
     "output_type": "display_data"
    },
    {
     "data": {
      "application/vnd.jupyter.widget-view+json": {
       "model_id": "1e93cff88ba34a4fbb45a48e244694c8",
       "version_major": 2,
       "version_minor": 0
      },
      "text/plain": [
       "  0%|          | 0/141 [00:00<?, ?it/s]"
      ]
     },
     "metadata": {},
     "output_type": "display_data"
    },
    {
     "name": "stdout",
     "output_type": "stream",
     "text": [
      "Train Loss: 2.2157 Train Acc: 0.6558\n",
      "Val Loss: 2.8558 Val Acc: 0.6493\n",
      "Epoch 6/49\n",
      "----------\n"
     ]
    },
    {
     "data": {
      "application/vnd.jupyter.widget-view+json": {
       "model_id": "800fdd5db6b0467cbe8b393f9201d0de",
       "version_major": 2,
       "version_minor": 0
      },
      "text/plain": [
       "  0%|          | 0/704 [00:00<?, ?it/s]"
      ]
     },
     "metadata": {},
     "output_type": "display_data"
    },
    {
     "data": {
      "application/vnd.jupyter.widget-view+json": {
       "model_id": "488f46541a494145ad913cda61e41977",
       "version_major": 2,
       "version_minor": 0
      },
      "text/plain": [
       "  0%|          | 0/141 [00:00<?, ?it/s]"
      ]
     },
     "metadata": {},
     "output_type": "display_data"
    },
    {
     "name": "stdout",
     "output_type": "stream",
     "text": [
      "Train Loss: 2.0329 Train Acc: 0.7202\n",
      "Val Loss: 2.9545 Val Acc: 0.6825\n",
      "Epoch 7/49\n",
      "----------\n"
     ]
    },
    {
     "data": {
      "application/vnd.jupyter.widget-view+json": {
       "model_id": "4aa2ac55556340c4aa8e25038b081b97",
       "version_major": 2,
       "version_minor": 0
      },
      "text/plain": [
       "  0%|          | 0/704 [00:00<?, ?it/s]"
      ]
     },
     "metadata": {},
     "output_type": "display_data"
    },
    {
     "data": {
      "application/vnd.jupyter.widget-view+json": {
       "model_id": "57d74c116b07426b9e17a66de451eb0f",
       "version_major": 2,
       "version_minor": 0
      },
      "text/plain": [
       "  0%|          | 0/141 [00:00<?, ?it/s]"
      ]
     },
     "metadata": {},
     "output_type": "display_data"
    },
    {
     "name": "stdout",
     "output_type": "stream",
     "text": [
      "Train Loss: 1.9057 Train Acc: 0.7647\n",
      "Val Loss: 2.8762 Val Acc: 0.7417\n",
      "Epoch 8/49\n",
      "----------\n"
     ]
    },
    {
     "data": {
      "application/vnd.jupyter.widget-view+json": {
       "model_id": "b5abe10d55fe4d23be4e34a2a3252c52",
       "version_major": 2,
       "version_minor": 0
      },
      "text/plain": [
       "  0%|          | 0/704 [00:00<?, ?it/s]"
      ]
     },
     "metadata": {},
     "output_type": "display_data"
    },
    {
     "data": {
      "application/vnd.jupyter.widget-view+json": {
       "model_id": "722bb3d6c891496cb2defb744956e51a",
       "version_major": 2,
       "version_minor": 0
      },
      "text/plain": [
       "  0%|          | 0/141 [00:00<?, ?it/s]"
      ]
     },
     "metadata": {},
     "output_type": "display_data"
    },
    {
     "name": "stdout",
     "output_type": "stream",
     "text": [
      "Train Loss: 1.7606 Train Acc: 0.8026\n",
      "Val Loss: 2.9247 Val Acc: 0.6611\n",
      "Epoch 9/49\n",
      "----------\n"
     ]
    },
    {
     "data": {
      "application/vnd.jupyter.widget-view+json": {
       "model_id": "f4b0d01432384ea4884eb0fcd2f5ad6a",
       "version_major": 2,
       "version_minor": 0
      },
      "text/plain": [
       "  0%|          | 0/704 [00:00<?, ?it/s]"
      ]
     },
     "metadata": {},
     "output_type": "display_data"
    },
    {
     "data": {
      "application/vnd.jupyter.widget-view+json": {
       "model_id": "2e9f08a1c56347d7b82b55eebe4d0e9d",
       "version_major": 2,
       "version_minor": 0
      },
      "text/plain": [
       "  0%|          | 0/141 [00:00<?, ?it/s]"
      ]
     },
     "metadata": {},
     "output_type": "display_data"
    },
    {
     "name": "stdout",
     "output_type": "stream",
     "text": [
      "Train Loss: 1.6839 Train Acc: 0.8381\n",
      "Val Loss: 2.7720 Val Acc: 0.6777\n",
      "Epoch 10/49\n",
      "----------\n"
     ]
    },
    {
     "data": {
      "application/vnd.jupyter.widget-view+json": {
       "model_id": "5c8e8c8ed1dd4c7b9082cedb8c92b89e",
       "version_major": 2,
       "version_minor": 0
      },
      "text/plain": [
       "  0%|          | 0/704 [00:00<?, ?it/s]"
      ]
     },
     "metadata": {},
     "output_type": "display_data"
    },
    {
     "data": {
      "application/vnd.jupyter.widget-view+json": {
       "model_id": "ab9287b9726d4c2f9c2d221743e5ac24",
       "version_major": 2,
       "version_minor": 0
      },
      "text/plain": [
       "  0%|          | 0/141 [00:00<?, ?it/s]"
      ]
     },
     "metadata": {},
     "output_type": "display_data"
    },
    {
     "name": "stdout",
     "output_type": "stream",
     "text": [
      "Train Loss: 1.5748 Train Acc: 0.8812\n",
      "Val Loss: 2.7213 Val Acc: 0.7559\n",
      "Epoch 11/49\n",
      "----------\n"
     ]
    },
    {
     "data": {
      "application/vnd.jupyter.widget-view+json": {
       "model_id": "2e9a430baa0e4a6eb348a50dd1ab1a5a",
       "version_major": 2,
       "version_minor": 0
      },
      "text/plain": [
       "  0%|          | 0/704 [00:00<?, ?it/s]"
      ]
     },
     "metadata": {},
     "output_type": "display_data"
    },
    {
     "data": {
      "application/vnd.jupyter.widget-view+json": {
       "model_id": "7076f8a1d730406ba1758ffc0bd141c3",
       "version_major": 2,
       "version_minor": 0
      },
      "text/plain": [
       "  0%|          | 0/141 [00:00<?, ?it/s]"
      ]
     },
     "metadata": {},
     "output_type": "display_data"
    },
    {
     "name": "stdout",
     "output_type": "stream",
     "text": [
      "Train Loss: 1.5256 Train Acc: 0.8873\n",
      "Val Loss: 3.0985 Val Acc: 0.7630\n",
      "Epoch 12/49\n",
      "----------\n"
     ]
    },
    {
     "data": {
      "application/vnd.jupyter.widget-view+json": {
       "model_id": "6e3dc43d38204fffb7f38cb3e341c3d7",
       "version_major": 2,
       "version_minor": 0
      },
      "text/plain": [
       "  0%|          | 0/704 [00:00<?, ?it/s]"
      ]
     },
     "metadata": {},
     "output_type": "display_data"
    },
    {
     "data": {
      "application/vnd.jupyter.widget-view+json": {
       "model_id": "86ea8b46f3ba4b70b9918e220e963646",
       "version_major": 2,
       "version_minor": 0
      },
      "text/plain": [
       "  0%|          | 0/141 [00:00<?, ?it/s]"
      ]
     },
     "metadata": {},
     "output_type": "display_data"
    },
    {
     "name": "stdout",
     "output_type": "stream",
     "text": [
      "Train Loss: 1.4874 Train Acc: 0.9006\n",
      "Val Loss: 2.8584 Val Acc: 0.8104\n",
      "Epoch 13/49\n",
      "----------\n"
     ]
    },
    {
     "data": {
      "application/vnd.jupyter.widget-view+json": {
       "model_id": "33a9293793e24a2ba62ef0e56d2238c0",
       "version_major": 2,
       "version_minor": 0
      },
      "text/plain": [
       "  0%|          | 0/704 [00:00<?, ?it/s]"
      ]
     },
     "metadata": {},
     "output_type": "display_data"
    },
    {
     "data": {
      "application/vnd.jupyter.widget-view+json": {
       "model_id": "02ef73f263fb40378516600359271fc2",
       "version_major": 2,
       "version_minor": 0
      },
      "text/plain": [
       "  0%|          | 0/141 [00:00<?, ?it/s]"
      ]
     },
     "metadata": {},
     "output_type": "display_data"
    },
    {
     "name": "stdout",
     "output_type": "stream",
     "text": [
      "Train Loss: 1.4076 Train Acc: 0.9266\n",
      "Val Loss: 2.4443 Val Acc: 0.7844\n",
      "Epoch 14/49\n",
      "----------\n"
     ]
    },
    {
     "data": {
      "application/vnd.jupyter.widget-view+json": {
       "model_id": "a18ba841d1ea4b4cbb1d19b3a9fa07fa",
       "version_major": 2,
       "version_minor": 0
      },
      "text/plain": [
       "  0%|          | 0/704 [00:00<?, ?it/s]"
      ]
     },
     "metadata": {},
     "output_type": "display_data"
    },
    {
     "data": {
      "application/vnd.jupyter.widget-view+json": {
       "model_id": "a89ed10e40964d358832e4d994b2be59",
       "version_major": 2,
       "version_minor": 0
      },
      "text/plain": [
       "  0%|          | 0/141 [00:00<?, ?it/s]"
      ]
     },
     "metadata": {},
     "output_type": "display_data"
    },
    {
     "name": "stdout",
     "output_type": "stream",
     "text": [
      "Train Loss: 1.3943 Train Acc: 0.9356\n",
      "Val Loss: 2.6309 Val Acc: 0.7986\n",
      "Epoch 15/49\n",
      "----------\n"
     ]
    },
    {
     "data": {
      "application/vnd.jupyter.widget-view+json": {
       "model_id": "33dfb50edd1143dcafe13391959901be",
       "version_major": 2,
       "version_minor": 0
      },
      "text/plain": [
       "  0%|          | 0/704 [00:00<?, ?it/s]"
      ]
     },
     "metadata": {},
     "output_type": "display_data"
    },
    {
     "data": {
      "application/vnd.jupyter.widget-view+json": {
       "model_id": "e3cba14015e24b4f8b0e6816f98b8726",
       "version_major": 2,
       "version_minor": 0
      },
      "text/plain": [
       "  0%|          | 0/141 [00:00<?, ?it/s]"
      ]
     },
     "metadata": {},
     "output_type": "display_data"
    },
    {
     "name": "stdout",
     "output_type": "stream",
     "text": [
      "Train Loss: 1.3474 Train Acc: 0.9508\n",
      "Val Loss: 2.4562 Val Acc: 0.8199\n",
      "Epoch 16/49\n",
      "----------\n"
     ]
    },
    {
     "data": {
      "application/vnd.jupyter.widget-view+json": {
       "model_id": "6b1fd5d3750a4e9ab0e320ce3782278c",
       "version_major": 2,
       "version_minor": 0
      },
      "text/plain": [
       "  0%|          | 0/704 [00:00<?, ?it/s]"
      ]
     },
     "metadata": {},
     "output_type": "display_data"
    },
    {
     "data": {
      "application/vnd.jupyter.widget-view+json": {
       "model_id": "3e60dc1f171e4c3d8989ff694d70666e",
       "version_major": 2,
       "version_minor": 0
      },
      "text/plain": [
       "  0%|          | 0/141 [00:00<?, ?it/s]"
      ]
     },
     "metadata": {},
     "output_type": "display_data"
    },
    {
     "name": "stdout",
     "output_type": "stream",
     "text": [
      "Train Loss: 1.3282 Train Acc: 0.9531\n",
      "Val Loss: 2.3121 Val Acc: 0.7630\n",
      "Epoch 17/49\n",
      "----------\n"
     ]
    },
    {
     "data": {
      "application/vnd.jupyter.widget-view+json": {
       "model_id": "1a775620f40e4ff8bd97406a7397075c",
       "version_major": 2,
       "version_minor": 0
      },
      "text/plain": [
       "  0%|          | 0/704 [00:00<?, ?it/s]"
      ]
     },
     "metadata": {},
     "output_type": "display_data"
    },
    {
     "data": {
      "application/vnd.jupyter.widget-view+json": {
       "model_id": "fb25808a623c4e9abf4b9255317d62d9",
       "version_major": 2,
       "version_minor": 0
      },
      "text/plain": [
       "  0%|          | 0/141 [00:00<?, ?it/s]"
      ]
     },
     "metadata": {},
     "output_type": "display_data"
    },
    {
     "name": "stdout",
     "output_type": "stream",
     "text": [
      "Train Loss: 1.3024 Train Acc: 0.9583\n",
      "Val Loss: 2.5766 Val Acc: 0.7536\n",
      "Epoch 18/49\n",
      "----------\n"
     ]
    },
    {
     "data": {
      "application/vnd.jupyter.widget-view+json": {
       "model_id": "ee5a7a1245b74bcb9ea697c4d9394951",
       "version_major": 2,
       "version_minor": 0
      },
      "text/plain": [
       "  0%|          | 0/704 [00:00<?, ?it/s]"
      ]
     },
     "metadata": {},
     "output_type": "display_data"
    },
    {
     "data": {
      "application/vnd.jupyter.widget-view+json": {
       "model_id": "3bd7668e41db47988c260f72e556c42b",
       "version_major": 2,
       "version_minor": 0
      },
      "text/plain": [
       "  0%|          | 0/141 [00:00<?, ?it/s]"
      ]
     },
     "metadata": {},
     "output_type": "display_data"
    },
    {
     "name": "stdout",
     "output_type": "stream",
     "text": [
      "Train Loss: 1.2571 Train Acc: 0.9706\n",
      "Val Loss: 2.3068 Val Acc: 0.7322\n",
      "Epoch 19/49\n",
      "----------\n"
     ]
    },
    {
     "data": {
      "application/vnd.jupyter.widget-view+json": {
       "model_id": "2faabc170fd143b0bd99f4803ea07522",
       "version_major": 2,
       "version_minor": 0
      },
      "text/plain": [
       "  0%|          | 0/704 [00:00<?, ?it/s]"
      ]
     },
     "metadata": {},
     "output_type": "display_data"
    },
    {
     "data": {
      "application/vnd.jupyter.widget-view+json": {
       "model_id": "2053fa88b9bd4454bf2c0d3d8dcf4179",
       "version_major": 2,
       "version_minor": 0
      },
      "text/plain": [
       "  0%|          | 0/141 [00:00<?, ?it/s]"
      ]
     },
     "metadata": {},
     "output_type": "display_data"
    },
    {
     "name": "stdout",
     "output_type": "stream",
     "text": [
      "Train Loss: 1.2613 Train Acc: 0.9730\n",
      "Val Loss: 2.3747 Val Acc: 0.7156\n",
      "Epoch 20/49\n",
      "----------\n"
     ]
    },
    {
     "data": {
      "application/vnd.jupyter.widget-view+json": {
       "model_id": "8e8e684f24a743c99246b2f2b5a1fa3f",
       "version_major": 2,
       "version_minor": 0
      },
      "text/plain": [
       "  0%|          | 0/704 [00:00<?, ?it/s]"
      ]
     },
     "metadata": {},
     "output_type": "display_data"
    },
    {
     "data": {
      "application/vnd.jupyter.widget-view+json": {
       "model_id": "df5e2c41c4074740be57ee959bb7d20d",
       "version_major": 2,
       "version_minor": 0
      },
      "text/plain": [
       "  0%|          | 0/141 [00:00<?, ?it/s]"
      ]
     },
     "metadata": {},
     "output_type": "display_data"
    },
    {
     "name": "stdout",
     "output_type": "stream",
     "text": [
      "Train Loss: 1.1973 Train Acc: 0.9863\n",
      "Val Loss: 2.2553 Val Acc: 0.7488\n",
      "Epoch 21/49\n",
      "----------\n"
     ]
    },
    {
     "data": {
      "application/vnd.jupyter.widget-view+json": {
       "model_id": "3ed961f5febe4f2994013d2fd954a6f9",
       "version_major": 2,
       "version_minor": 0
      },
      "text/plain": [
       "  0%|          | 0/704 [00:00<?, ?it/s]"
      ]
     },
     "metadata": {},
     "output_type": "display_data"
    },
    {
     "data": {
      "application/vnd.jupyter.widget-view+json": {
       "model_id": "b24092ed659a4bc698361471873c09e8",
       "version_major": 2,
       "version_minor": 0
      },
      "text/plain": [
       "  0%|          | 0/141 [00:00<?, ?it/s]"
      ]
     },
     "metadata": {},
     "output_type": "display_data"
    },
    {
     "name": "stdout",
     "output_type": "stream",
     "text": [
      "Train Loss: 1.2396 Train Acc: 0.9777\n",
      "Val Loss: 2.5135 Val Acc: 0.8081\n",
      "Epoch 22/49\n",
      "----------\n"
     ]
    },
    {
     "data": {
      "application/vnd.jupyter.widget-view+json": {
       "model_id": "74f5ed946d544bce92db21798d490aea",
       "version_major": 2,
       "version_minor": 0
      },
      "text/plain": [
       "  0%|          | 0/704 [00:00<?, ?it/s]"
      ]
     },
     "metadata": {},
     "output_type": "display_data"
    },
    {
     "data": {
      "application/vnd.jupyter.widget-view+json": {
       "model_id": "942d3f38b7924d979645e12bb4e78d98",
       "version_major": 2,
       "version_minor": 0
      },
      "text/plain": [
       "  0%|          | 0/141 [00:00<?, ?it/s]"
      ]
     },
     "metadata": {},
     "output_type": "display_data"
    },
    {
     "name": "stdout",
     "output_type": "stream",
     "text": [
      "Train Loss: 1.2306 Train Acc: 0.9759\n",
      "Val Loss: 2.4377 Val Acc: 0.6209\n",
      "Epoch 23/49\n",
      "----------\n"
     ]
    },
    {
     "data": {
      "application/vnd.jupyter.widget-view+json": {
       "model_id": "88f6d1bc9e2d45748094d1bd7d7673ec",
       "version_major": 2,
       "version_minor": 0
      },
      "text/plain": [
       "  0%|          | 0/704 [00:00<?, ?it/s]"
      ]
     },
     "metadata": {},
     "output_type": "display_data"
    },
    {
     "data": {
      "application/vnd.jupyter.widget-view+json": {
       "model_id": "8ad87d780f21456f896a29813e3f26f3",
       "version_major": 2,
       "version_minor": 0
      },
      "text/plain": [
       "  0%|          | 0/141 [00:00<?, ?it/s]"
      ]
     },
     "metadata": {},
     "output_type": "display_data"
    },
    {
     "name": "stdout",
     "output_type": "stream",
     "text": [
      "Train Loss: 1.2153 Train Acc: 0.9796\n",
      "Val Loss: 2.3018 Val Acc: 0.7701\n",
      "Epoch 24/49\n",
      "----------\n"
     ]
    },
    {
     "data": {
      "application/vnd.jupyter.widget-view+json": {
       "model_id": "dbb41ab5cff74826997870ab22778a60",
       "version_major": 2,
       "version_minor": 0
      },
      "text/plain": [
       "  0%|          | 0/704 [00:00<?, ?it/s]"
      ]
     },
     "metadata": {},
     "output_type": "display_data"
    },
    {
     "data": {
      "application/vnd.jupyter.widget-view+json": {
       "model_id": "2521a12ba7154dbfbd0d614ed8f3654f",
       "version_major": 2,
       "version_minor": 0
      },
      "text/plain": [
       "  0%|          | 0/141 [00:00<?, ?it/s]"
      ]
     },
     "metadata": {},
     "output_type": "display_data"
    },
    {
     "name": "stdout",
     "output_type": "stream",
     "text": [
      "Train Loss: 1.1968 Train Acc: 0.9863\n",
      "Val Loss: 2.3383 Val Acc: 0.7464\n",
      "Epoch 25/49\n",
      "----------\n"
     ]
    },
    {
     "data": {
      "application/vnd.jupyter.widget-view+json": {
       "model_id": "5ce98378f2a34aeca1216d0d070d718b",
       "version_major": 2,
       "version_minor": 0
      },
      "text/plain": [
       "  0%|          | 0/704 [00:00<?, ?it/s]"
      ]
     },
     "metadata": {},
     "output_type": "display_data"
    },
    {
     "data": {
      "application/vnd.jupyter.widget-view+json": {
       "model_id": "5b6fd67a0f9648f39f7d86634408bcc3",
       "version_major": 2,
       "version_minor": 0
      },
      "text/plain": [
       "  0%|          | 0/141 [00:00<?, ?it/s]"
      ]
     },
     "metadata": {},
     "output_type": "display_data"
    },
    {
     "name": "stdout",
     "output_type": "stream",
     "text": [
      "Train Loss: 1.2075 Train Acc: 0.9830\n",
      "Val Loss: 2.4018 Val Acc: 0.7346\n",
      "Epoch 26/49\n",
      "----------\n"
     ]
    },
    {
     "data": {
      "application/vnd.jupyter.widget-view+json": {
       "model_id": "16b3a2196fef46ba835235ba3b13b725",
       "version_major": 2,
       "version_minor": 0
      },
      "text/plain": [
       "  0%|          | 0/704 [00:00<?, ?it/s]"
      ]
     },
     "metadata": {},
     "output_type": "display_data"
    },
    {
     "data": {
      "application/vnd.jupyter.widget-view+json": {
       "model_id": "6c2305a011e0458c94b6f1a112ae96b5",
       "version_major": 2,
       "version_minor": 0
      },
      "text/plain": [
       "  0%|          | 0/141 [00:00<?, ?it/s]"
      ]
     },
     "metadata": {},
     "output_type": "display_data"
    },
    {
     "name": "stdout",
     "output_type": "stream",
     "text": [
      "Train Loss: 1.1961 Train Acc: 0.9848\n",
      "Val Loss: 2.1975 Val Acc: 0.7299\n",
      "Epoch 27/49\n",
      "----------\n"
     ]
    },
    {
     "data": {
      "application/vnd.jupyter.widget-view+json": {
       "model_id": "a22ce6db5e2d45019432d0649ff290db",
       "version_major": 2,
       "version_minor": 0
      },
      "text/plain": [
       "  0%|          | 0/704 [00:00<?, ?it/s]"
      ]
     },
     "metadata": {},
     "output_type": "display_data"
    },
    {
     "data": {
      "application/vnd.jupyter.widget-view+json": {
       "model_id": "a980c09cef9040a4b04d17a21875e6b6",
       "version_major": 2,
       "version_minor": 0
      },
      "text/plain": [
       "  0%|          | 0/141 [00:00<?, ?it/s]"
      ]
     },
     "metadata": {},
     "output_type": "display_data"
    },
    {
     "name": "stdout",
     "output_type": "stream",
     "text": [
      "Train Loss: 1.1685 Train Acc: 0.9896\n",
      "Val Loss: 2.2927 Val Acc: 0.7275\n",
      "Epoch 28/49\n",
      "----------\n"
     ]
    },
    {
     "data": {
      "application/vnd.jupyter.widget-view+json": {
       "model_id": "7d92f21ca1a4417389c82cc312f582b4",
       "version_major": 2,
       "version_minor": 0
      },
      "text/plain": [
       "  0%|          | 0/704 [00:00<?, ?it/s]"
      ]
     },
     "metadata": {},
     "output_type": "display_data"
    },
    {
     "data": {
      "application/vnd.jupyter.widget-view+json": {
       "model_id": "8eacd76aa6e0435684f517ae64f92224",
       "version_major": 2,
       "version_minor": 0
      },
      "text/plain": [
       "  0%|          | 0/141 [00:00<?, ?it/s]"
      ]
     },
     "metadata": {},
     "output_type": "display_data"
    },
    {
     "name": "stdout",
     "output_type": "stream",
     "text": [
      "Train Loss: 1.1927 Train Acc: 0.9853\n",
      "Val Loss: 2.4464 Val Acc: 0.7583\n",
      "Epoch 29/49\n",
      "----------\n"
     ]
    },
    {
     "data": {
      "application/vnd.jupyter.widget-view+json": {
       "model_id": "8a8f600fe3554f949fe22f68c1ff34fe",
       "version_major": 2,
       "version_minor": 0
      },
      "text/plain": [
       "  0%|          | 0/704 [00:00<?, ?it/s]"
      ]
     },
     "metadata": {},
     "output_type": "display_data"
    },
    {
     "data": {
      "application/vnd.jupyter.widget-view+json": {
       "model_id": "de9a80d3aedf4733a37603f4007a14e8",
       "version_major": 2,
       "version_minor": 0
      },
      "text/plain": [
       "  0%|          | 0/141 [00:00<?, ?it/s]"
      ]
     },
     "metadata": {},
     "output_type": "display_data"
    },
    {
     "name": "stdout",
     "output_type": "stream",
     "text": [
      "Train Loss: 1.1571 Train Acc: 0.9924\n",
      "Val Loss: 2.2619 Val Acc: 0.7464\n",
      "Epoch 30/49\n",
      "----------\n"
     ]
    },
    {
     "data": {
      "application/vnd.jupyter.widget-view+json": {
       "model_id": "2359850b7c584de28a8861241ecaa7ad",
       "version_major": 2,
       "version_minor": 0
      },
      "text/plain": [
       "  0%|          | 0/704 [00:00<?, ?it/s]"
      ]
     },
     "metadata": {},
     "output_type": "display_data"
    },
    {
     "data": {
      "application/vnd.jupyter.widget-view+json": {
       "model_id": "a21f0ee1f5cc4c1ea692e0217332e367",
       "version_major": 2,
       "version_minor": 0
      },
      "text/plain": [
       "  0%|          | 0/141 [00:00<?, ?it/s]"
      ]
     },
     "metadata": {},
     "output_type": "display_data"
    },
    {
     "name": "stdout",
     "output_type": "stream",
     "text": [
      "Train Loss: 1.1592 Train Acc: 0.9867\n",
      "Val Loss: 2.1440 Val Acc: 0.7867\n",
      "Epoch 31/49\n",
      "----------\n"
     ]
    },
    {
     "data": {
      "application/vnd.jupyter.widget-view+json": {
       "model_id": "c876b4bd724f4128ba2d1db6838b0993",
       "version_major": 2,
       "version_minor": 0
      },
      "text/plain": [
       "  0%|          | 0/704 [00:00<?, ?it/s]"
      ]
     },
     "metadata": {},
     "output_type": "display_data"
    },
    {
     "data": {
      "application/vnd.jupyter.widget-view+json": {
       "model_id": "59331dd506a54694a19acacbf8f53fe5",
       "version_major": 2,
       "version_minor": 0
      },
      "text/plain": [
       "  0%|          | 0/141 [00:00<?, ?it/s]"
      ]
     },
     "metadata": {},
     "output_type": "display_data"
    },
    {
     "name": "stdout",
     "output_type": "stream",
     "text": [
      "Train Loss: 1.1447 Train Acc: 0.9948\n",
      "Val Loss: 2.2399 Val Acc: 0.6872\n",
      "Epoch 32/49\n",
      "----------\n"
     ]
    },
    {
     "data": {
      "application/vnd.jupyter.widget-view+json": {
       "model_id": "38245d9dcdb146eb966aac6db1fa3e16",
       "version_major": 2,
       "version_minor": 0
      },
      "text/plain": [
       "  0%|          | 0/704 [00:00<?, ?it/s]"
      ]
     },
     "metadata": {},
     "output_type": "display_data"
    },
    {
     "data": {
      "application/vnd.jupyter.widget-view+json": {
       "model_id": "6677918ed444471bb01ec079842a6c9a",
       "version_major": 2,
       "version_minor": 0
      },
      "text/plain": [
       "  0%|          | 0/141 [00:00<?, ?it/s]"
      ]
     },
     "metadata": {},
     "output_type": "display_data"
    },
    {
     "name": "stdout",
     "output_type": "stream",
     "text": [
      "Train Loss: 1.1661 Train Acc: 0.9872\n",
      "Val Loss: 2.8303 Val Acc: 0.7109\n",
      "Epoch 33/49\n",
      "----------\n"
     ]
    },
    {
     "data": {
      "application/vnd.jupyter.widget-view+json": {
       "model_id": "158d411fec6b45ce9f65958c486a4e34",
       "version_major": 2,
       "version_minor": 0
      },
      "text/plain": [
       "  0%|          | 0/704 [00:00<?, ?it/s]"
      ]
     },
     "metadata": {},
     "output_type": "display_data"
    },
    {
     "data": {
      "application/vnd.jupyter.widget-view+json": {
       "model_id": "44e777a8a5264804b3e8ac909ce75737",
       "version_major": 2,
       "version_minor": 0
      },
      "text/plain": [
       "  0%|          | 0/141 [00:00<?, ?it/s]"
      ]
     },
     "metadata": {},
     "output_type": "display_data"
    },
    {
     "name": "stdout",
     "output_type": "stream",
     "text": [
      "Train Loss: 1.1506 Train Acc: 0.9910\n",
      "Val Loss: 2.1682 Val Acc: 0.8318\n",
      "Epoch 34/49\n",
      "----------\n"
     ]
    },
    {
     "data": {
      "application/vnd.jupyter.widget-view+json": {
       "model_id": "b8f50323e83f47b197a3bb04bdc32374",
       "version_major": 2,
       "version_minor": 0
      },
      "text/plain": [
       "  0%|          | 0/704 [00:00<?, ?it/s]"
      ]
     },
     "metadata": {},
     "output_type": "display_data"
    },
    {
     "data": {
      "application/vnd.jupyter.widget-view+json": {
       "model_id": "86e6e767b35048babc18e5e3798e2cfd",
       "version_major": 2,
       "version_minor": 0
      },
      "text/plain": [
       "  0%|          | 0/141 [00:00<?, ?it/s]"
      ]
     },
     "metadata": {},
     "output_type": "display_data"
    },
    {
     "name": "stdout",
     "output_type": "stream",
     "text": [
      "Train Loss: 1.1215 Train Acc: 0.9943\n",
      "Val Loss: 2.1783 Val Acc: 0.7749\n",
      "Epoch 35/49\n",
      "----------\n"
     ]
    },
    {
     "data": {
      "application/vnd.jupyter.widget-view+json": {
       "model_id": "e69a70c258934108b4a89bfcaca68832",
       "version_major": 2,
       "version_minor": 0
      },
      "text/plain": [
       "  0%|          | 0/704 [00:00<?, ?it/s]"
      ]
     },
     "metadata": {},
     "output_type": "display_data"
    },
    {
     "data": {
      "application/vnd.jupyter.widget-view+json": {
       "model_id": "172633201a3c4b8ca0e2a5a6199afe59",
       "version_major": 2,
       "version_minor": 0
      },
      "text/plain": [
       "  0%|          | 0/141 [00:00<?, ?it/s]"
      ]
     },
     "metadata": {},
     "output_type": "display_data"
    },
    {
     "name": "stdout",
     "output_type": "stream",
     "text": [
      "Train Loss: 1.1419 Train Acc: 0.9943\n",
      "Val Loss: 2.3222 Val Acc: 0.6991\n",
      "Epoch 36/49\n",
      "----------\n"
     ]
    },
    {
     "data": {
      "application/vnd.jupyter.widget-view+json": {
       "model_id": "ec8517cc8333445e85abc1a56db141b1",
       "version_major": 2,
       "version_minor": 0
      },
      "text/plain": [
       "  0%|          | 0/704 [00:00<?, ?it/s]"
      ]
     },
     "metadata": {},
     "output_type": "display_data"
    },
    {
     "data": {
      "application/vnd.jupyter.widget-view+json": {
       "model_id": "70339a4bbcc34fc4b0115576d9c09d91",
       "version_major": 2,
       "version_minor": 0
      },
      "text/plain": [
       "  0%|          | 0/141 [00:00<?, ?it/s]"
      ]
     },
     "metadata": {},
     "output_type": "display_data"
    },
    {
     "name": "stdout",
     "output_type": "stream",
     "text": [
      "Train Loss: 1.1340 Train Acc: 0.9943\n",
      "Val Loss: 2.2529 Val Acc: 0.7678\n",
      "Epoch 37/49\n",
      "----------\n"
     ]
    },
    {
     "data": {
      "application/vnd.jupyter.widget-view+json": {
       "model_id": "85ad824abfac46379021e1ccd95ce2e1",
       "version_major": 2,
       "version_minor": 0
      },
      "text/plain": [
       "  0%|          | 0/704 [00:00<?, ?it/s]"
      ]
     },
     "metadata": {},
     "output_type": "display_data"
    },
    {
     "data": {
      "application/vnd.jupyter.widget-view+json": {
       "model_id": "711dca8fcab04813a78c9fc031fd0263",
       "version_major": 2,
       "version_minor": 0
      },
      "text/plain": [
       "  0%|          | 0/141 [00:00<?, ?it/s]"
      ]
     },
     "metadata": {},
     "output_type": "display_data"
    },
    {
     "name": "stdout",
     "output_type": "stream",
     "text": [
      "Train Loss: 1.1115 Train Acc: 0.9972\n",
      "Val Loss: 2.0492 Val Acc: 0.7844\n",
      "Epoch 38/49\n",
      "----------\n"
     ]
    },
    {
     "data": {
      "application/vnd.jupyter.widget-view+json": {
       "model_id": "0833183c2da44b3fa26b763ef7f1d897",
       "version_major": 2,
       "version_minor": 0
      },
      "text/plain": [
       "  0%|          | 0/704 [00:00<?, ?it/s]"
      ]
     },
     "metadata": {},
     "output_type": "display_data"
    },
    {
     "data": {
      "application/vnd.jupyter.widget-view+json": {
       "model_id": "b39cbc90e58b43dea6d0906317add0f5",
       "version_major": 2,
       "version_minor": 0
      },
      "text/plain": [
       "  0%|          | 0/141 [00:00<?, ?it/s]"
      ]
     },
     "metadata": {},
     "output_type": "display_data"
    },
    {
     "name": "stdout",
     "output_type": "stream",
     "text": [
      "Train Loss: 1.1155 Train Acc: 0.9938\n",
      "Val Loss: 2.2019 Val Acc: 0.7417\n",
      "Epoch 39/49\n",
      "----------\n"
     ]
    },
    {
     "data": {
      "application/vnd.jupyter.widget-view+json": {
       "model_id": "ade02b7b4e2d405bac8488b1d9ffe232",
       "version_major": 2,
       "version_minor": 0
      },
      "text/plain": [
       "  0%|          | 0/704 [00:00<?, ?it/s]"
      ]
     },
     "metadata": {},
     "output_type": "display_data"
    },
    {
     "data": {
      "application/vnd.jupyter.widget-view+json": {
       "model_id": "b133a6432bac4fd4a73c907f55829e29",
       "version_major": 2,
       "version_minor": 0
      },
      "text/plain": [
       "  0%|          | 0/141 [00:00<?, ?it/s]"
      ]
     },
     "metadata": {},
     "output_type": "display_data"
    },
    {
     "name": "stdout",
     "output_type": "stream",
     "text": [
      "Train Loss: 1.1135 Train Acc: 0.9967\n",
      "Val Loss: 2.2504 Val Acc: 0.7322\n",
      "Epoch 40/49\n",
      "----------\n"
     ]
    },
    {
     "data": {
      "application/vnd.jupyter.widget-view+json": {
       "model_id": "b65152d2b4204e3aaf27a5f080ecb796",
       "version_major": 2,
       "version_minor": 0
      },
      "text/plain": [
       "  0%|          | 0/704 [00:00<?, ?it/s]"
      ]
     },
     "metadata": {},
     "output_type": "display_data"
    },
    {
     "data": {
      "application/vnd.jupyter.widget-view+json": {
       "model_id": "30d396041a2e43e4ad91abe523d81717",
       "version_major": 2,
       "version_minor": 0
      },
      "text/plain": [
       "  0%|          | 0/141 [00:00<?, ?it/s]"
      ]
     },
     "metadata": {},
     "output_type": "display_data"
    },
    {
     "name": "stdout",
     "output_type": "stream",
     "text": [
      "Train Loss: 1.1037 Train Acc: 0.9976\n",
      "Val Loss: 2.3740 Val Acc: 0.6706\n",
      "Epoch 41/49\n",
      "----------\n"
     ]
    },
    {
     "data": {
      "application/vnd.jupyter.widget-view+json": {
       "model_id": "22f35fbab44f437bbbd4bf3de3ed2f74",
       "version_major": 2,
       "version_minor": 0
      },
      "text/plain": [
       "  0%|          | 0/704 [00:00<?, ?it/s]"
      ]
     },
     "metadata": {},
     "output_type": "display_data"
    },
    {
     "data": {
      "application/vnd.jupyter.widget-view+json": {
       "model_id": "2a38a263d17243c986f186f5f1fa0a3f",
       "version_major": 2,
       "version_minor": 0
      },
      "text/plain": [
       "  0%|          | 0/141 [00:00<?, ?it/s]"
      ]
     },
     "metadata": {},
     "output_type": "display_data"
    },
    {
     "name": "stdout",
     "output_type": "stream",
     "text": [
      "Train Loss: 1.1069 Train Acc: 0.9976\n",
      "Val Loss: 2.1966 Val Acc: 0.7607\n",
      "Epoch 42/49\n",
      "----------\n"
     ]
    },
    {
     "data": {
      "application/vnd.jupyter.widget-view+json": {
       "model_id": "507bdd72a9714c05b45ee14fb9b2a1ff",
       "version_major": 2,
       "version_minor": 0
      },
      "text/plain": [
       "  0%|          | 0/704 [00:00<?, ?it/s]"
      ]
     },
     "metadata": {},
     "output_type": "display_data"
    },
    {
     "data": {
      "application/vnd.jupyter.widget-view+json": {
       "model_id": "a3f47785dc0b4b4aa4be99160f46e063",
       "version_major": 2,
       "version_minor": 0
      },
      "text/plain": [
       "  0%|          | 0/141 [00:00<?, ?it/s]"
      ]
     },
     "metadata": {},
     "output_type": "display_data"
    },
    {
     "name": "stdout",
     "output_type": "stream",
     "text": [
      "Train Loss: 1.1096 Train Acc: 0.9972\n",
      "Val Loss: 2.3022 Val Acc: 0.8057\n",
      "Epoch 43/49\n",
      "----------\n"
     ]
    },
    {
     "data": {
      "application/vnd.jupyter.widget-view+json": {
       "model_id": "d0ce757000404bcfb0115465b31d33be",
       "version_major": 2,
       "version_minor": 0
      },
      "text/plain": [
       "  0%|          | 0/704 [00:00<?, ?it/s]"
      ]
     },
     "metadata": {},
     "output_type": "display_data"
    },
    {
     "data": {
      "application/vnd.jupyter.widget-view+json": {
       "model_id": "1ac07dc585284764af663e431cc57110",
       "version_major": 2,
       "version_minor": 0
      },
      "text/plain": [
       "  0%|          | 0/141 [00:00<?, ?it/s]"
      ]
     },
     "metadata": {},
     "output_type": "display_data"
    },
    {
     "name": "stdout",
     "output_type": "stream",
     "text": [
      "Train Loss: 1.1064 Train Acc: 0.9976\n",
      "Val Loss: 2.3021 Val Acc: 0.7891\n",
      "Training complete in 489m 43s\n",
      "Best val Acc: 0.831754\n"
     ]
    }
   ],
   "source": [
    "criterion = nn.CrossEntropyLoss(label_smoothing=0.1)\n",
    "optimizer_ft = optim.Adam(model.parameters(), lr=0.0005)\n",
    "# disable lr for adam\n",
    "exp_lr_scheduler = optim.lr_scheduler.StepLR(optimizer_ft, step_size=100000, gamma=0.05)\n",
    "previous_history = try_load_history(os.path.join(FINETUNED_MODEL_DIR, \"history.pickle\"))\n",
    "\n",
    "\n",
    "if FINETUNE_MODEL:\n",
    "    model, history = tasks.torch_train_eval.train_model(\n",
    "        model,\n",
    "        criterion,\n",
    "        optimizer_ft,\n",
    "        exp_lr_scheduler,\n",
    "        device,\n",
    "        source_train_loader,\n",
    "        source_val_loader,\n",
    "        output_dir=FINETUNED_MODEL_DIR,\n",
    "        num_epochs=50,\n",
    "        patience=10,\n",
    "        warmup_period=25,\n",
    "        previous_history=previous_history\n",
    "    )\n",
    "else:\n",
    "    history = previous_history"
   ]
  },
  {
   "cell_type": "code",
   "execution_count": 8,
   "metadata": {
    "metadata": {}
   },
   "outputs": [
    {
     "data": {
      "image/png": "[encoded data removed]",
      "text/plain": [
       "<Figure size 640x480 with 1 Axes>"
      ]
     },
     "metadata": {},
     "output_type": "display_data"
    }
   ],
   "source": [
    "plt.plot(np.array(range(len(history[\"train_loss\"]))), history[\"train_loss\"])\n",
    "plt.plot(np.array(range(len(history[\"val_loss\"]))), history[\"val_loss\"])\n",
    "plt.xlabel(\"Epoch\")\n",
    "plt.ylabel(\"Cross Entropy Loss\")\n",
    "plt.title(\"Training loss\")\n",
    "plt.show()"
   ]
  },
  {
   "cell_type": "code",
   "execution_count": 9,
   "metadata": {
    "metadata": {}
   },
   "outputs": [
    {
     "data": {
      "image/png": "[encoded data removed]",
      "text/plain": [
       "<Figure size 640x480 with 1 Axes>"
      ]
     },
     "metadata": {},
     "output_type": "display_data"
    }
   ],
   "source": [
    "# validation accuracy has been calculated wrong here, ignore it for now\n",
    "plt.plot(np.array(range(len(history[\"train_acc\"]))), history[\"train_acc\"])\n",
    "plt.plot(np.array(range(len(history[\"val_acc\"]))), history[\"val_acc\"])\n",
    "\n",
    "plt.xlabel(\"Epoch\")\n",
    "plt.ylabel(\"Cross Entropy Loss\")\n",
    "plt.title(\"Training Accuracy\")\n",
    "plt.show()"
   ]
  },
  {
   "cell_type": "code",
   "execution_count": 10,
   "metadata": {
    "metadata": {}
   },
   "outputs": [
    {
     "data": {
      "application/vnd.jupyter.widget-view+json": {
       "model_id": "7d1a223bafe945f28223d5b2f4b819ac",
       "version_major": 2,
       "version_minor": 0
      },
      "text/plain": [
       "  0%|          | 0/95 [00:00<?, ?it/s]"
      ]
     },
     "metadata": {},
     "output_type": "display_data"
    },
    {
     "name": "stdout",
     "output_type": "stream",
     "text": [
      "                  precision    recall  f1-score   support\n",
      "\n",
      "       back_pack       0.78      1.00      0.88         7\n",
      "            bike       1.00      1.00      1.00         5\n",
      "     bike_helmet       1.00      1.00      1.00         7\n",
      "        bookcase       0.78      1.00      0.88         7\n",
      "          bottle       0.40      0.50      0.44         4\n",
      "      calculator       0.80      1.00      0.89         8\n",
      "      desk_chair       1.00      1.00      1.00        10\n",
      "       desk_lamp       0.88      0.88      0.88         8\n",
      "desktop_computer       0.86      0.46      0.60        13\n",
      "    file_cabinet       1.00      0.50      0.67        10\n",
      "      headphones       1.00      0.60      0.75         5\n",
      "        keyboard       0.87      0.76      0.81        17\n",
      " laptop_computer       1.00      0.92      0.96        13\n",
      "     letter_tray       1.00      0.50      0.67         6\n",
      "    mobile_phone       1.00      0.78      0.88         9\n",
      "         monitor       1.00      0.89      0.94         9\n",
      "           mouse       0.43      0.86      0.57         7\n",
      "             mug       1.00      0.73      0.84        11\n",
      "  paper_notebook       0.88      0.78      0.82         9\n",
      "             pen       0.57      0.67      0.62         6\n",
      "           phone       1.00      0.67      0.80         6\n",
      "         printer       0.88      0.78      0.82         9\n",
      "       projector       1.00      0.62      0.76        13\n",
      "        punchers       0.88      0.54      0.67        13\n",
      "     ring_binder       0.93      1.00      0.97        14\n",
      "           ruler       0.20      0.77      0.32        13\n",
      "        scissors       1.00      0.92      0.96        13\n",
      "         speaker       0.67      0.29      0.40         7\n",
      "         stapler       1.00      0.70      0.82        10\n",
      "  tape_dispenser       0.80      0.44      0.57         9\n",
      "       trash_can       0.75      0.60      0.67         5\n",
      "\n",
      "        accuracy                           0.75       283\n",
      "       macro avg       0.85      0.75      0.77       283\n",
      "    weighted avg       0.86      0.75      0.78       283\n",
      "\n"
     ]
    }
   ],
   "source": [
    "# save logits for later calibration\n",
    "source_actual, source_predicted = tasks.torch_train_eval.test(\n",
    "    model, source_test_loader, device\n",
    ")\n",
    "class_names = source_dataset.label_encoder.classes_\n",
    "\n",
    "print(\n",
    "    sklearn.metrics.classification_report(\n",
    "        source_actual,\n",
    "        source_predicted,\n",
    "        zero_division=0,\n",
    "        target_names=class_names,\n",
    "        labels=np.arange(0, len(class_names), 1),\n",
    "    )\n",
    ")"
   ]
  },
  {
   "cell_type": "code",
   "execution_count": 11,
   "metadata": {
    "metadata": {}
   },
   "outputs": [
    {
     "data": {
      "image/png": "[encoded data removed]",
      "text/plain": [
       "<Figure size 640x480 with 2 Axes>"
      ]
     },
     "metadata": {},
     "output_type": "display_data"
    }
   ],
   "source": [
    "source_cf_matrix = sklearn.metrics.confusion_matrix(source_actual, source_predicted)\n",
    "display = sklearn.metrics.ConfusionMatrixDisplay(\n",
    "    confusion_matrix=source_cf_matrix, display_labels=class_names\n",
    ")\n",
    "display.plot()\n",
    "plt.xticks(rotation=90)\n",
    "plt.show()"
   ]
  },
  {
   "cell_type": "code",
   "execution_count": 12,
   "metadata": {
    "metadata": {}
   },
   "outputs": [
    {
     "data": {
      "application/vnd.jupyter.widget-view+json": {
       "model_id": "1dcf448d1e514c8288a1cad2f62b4453",
       "version_major": 2,
       "version_minor": 0
      },
      "text/plain": [
       "  0%|          | 0/31 [00:00<?, ?it/s]"
      ]
     },
     "metadata": {},
     "output_type": "display_data"
    }
   ],
   "source": [
    "target_dataset = tasks.data.ImageDataset(\n",
    "    parser_func=image_read_func,\n",
    "    preprocessing_func=resnet_preprocessor,\n",
    "    label_encoder=source_dataset.label_encoder # use same classes\n",
    ")\n",
    "target_dataset.load_from_directory(os.path.join(DATA_DIR, TARGET_DATASET))\n",
    "\n",
    "target_train_dataset, target_val_dataset, target_test_dataset = train_val_test_split(\n",
    "    target_dataset, TARGET_VAL_SPLIT, TARGET_TEST_SPLIT\n",
    ")\n",
    "\n",
    "target_train_loader = create_padded_dataloader(target_train_dataset, shuffle=True)\n",
    "target_test_loader = create_padded_dataloader(target_test_dataset, shuffle=False)"
   ]
  },
  {
   "cell_type": "code",
   "execution_count": 13,
   "metadata": {
    "metadata": {}
   },
   "outputs": [
    {
     "data": {
      "application/vnd.jupyter.widget-view+json": {
       "model_id": "d606522db6ca4885bee8760eeff1782a",
       "version_major": 2,
       "version_minor": 0
      },
      "text/plain": [
       "  0%|          | 0/40 [00:00<?, ?it/s]"
      ]
     },
     "metadata": {},
     "output_type": "display_data"
    },
    {
     "name": "stdout",
     "output_type": "stream",
     "text": [
      "                  precision    recall  f1-score   support\n",
      "\n",
      "       back_pack       0.67      0.40      0.50         5\n",
      "            bike       1.00      0.50      0.67         2\n",
      "     bike_helmet       0.75      0.75      0.75         4\n",
      "        bookcase       0.00      0.00      0.00         1\n",
      "          bottle       0.00      0.00      0.00         2\n",
      "      calculator       1.00      0.50      0.67         4\n",
      "      desk_chair       0.00      0.00      0.00        10\n",
      "       desk_lamp       0.00      0.00      0.00         5\n",
      "desktop_computer       0.00      0.00      0.00         2\n",
      "    file_cabinet       1.00      0.67      0.80         3\n",
      "      headphones       0.00      0.00      0.00         4\n",
      "        keyboard       0.00      0.00      0.00         1\n",
      " laptop_computer       0.00      0.00      0.00         5\n",
      "     letter_tray       0.00      0.00      0.00         2\n",
      "    mobile_phone       0.00      0.00      0.00         5\n",
      "         monitor       0.00      0.00      0.00         6\n",
      "           mouse       0.00      0.00      0.00         4\n",
      "             mug       0.00      0.00      0.00         5\n",
      "  paper_notebook       0.00      0.00      0.00         4\n",
      "             pen       0.00      0.00      0.00         6\n",
      "           phone       0.00      0.00      0.00         0\n",
      "         printer       0.00      0.00      0.00         1\n",
      "       projector       0.00      0.00      0.00         6\n",
      "        punchers       1.00      0.25      0.40         4\n",
      "     ring_binder       0.00      0.00      0.00         5\n",
      "           ruler       0.01      1.00      0.03         1\n",
      "        scissors       0.00      0.00      0.00         4\n",
      "         speaker       1.00      0.25      0.40         4\n",
      "         stapler       0.00      0.00      0.00         5\n",
      "  tape_dispenser       0.00      0.00      0.00         5\n",
      "       trash_can       0.00      0.00      0.00         5\n",
      "\n",
      "       micro avg       0.11      0.11      0.11       120\n",
      "       macro avg       0.21      0.14      0.14       120\n",
      "    weighted avg       0.19      0.11      0.13       120\n",
      "\n"
     ]
    }
   ],
   "source": [
    "target_actual, target_predicted = tasks.torch_train_eval.test(model, target_test_loader, device)\n",
    "class_names = target_dataset.label_encoder.classes_\n",
    "\n",
    "print(\n",
    "    sklearn.metrics.classification_report(\n",
    "        target_actual,\n",
    "        target_predicted,\n",
    "        zero_division=0,\n",
    "        target_names=class_names,\n",
    "        labels=np.arange(0, len(class_names), 1),\n",
    "    )\n",
    ")"
   ]
  },
  {
   "cell_type": "code",
   "execution_count": 16,
   "metadata": {
    "metadata": {}
   },
   "outputs": [
    {
     "data": {
      "image/png": "[encoded data removed]",
      "text/plain": [
       "<Figure size 640x480 with 2 Axes>"
      ]
     },
     "metadata": {},
     "output_type": "display_data"
    }
   ],
   "source": [
    "target_cf_matrix = sklearn.metrics.confusion_matrix(target_actual, target_predicted, labels=np.arange(0, len(class_names), 1))\n",
    "display = sklearn.metrics.ConfusionMatrixDisplay(\n",
    "    confusion_matrix=target_cf_matrix, display_labels=class_names\n",
    ")\n",
    "display.plot()\n",
    "plt.xticks(rotation=90)\n",
    "plt.show()"
   ]
  },
  {
   "cell_type": "markdown",
   "metadata": {},
   "source": [
    "## Domain Adaptation"
   ]
  },
  {
   "cell_type": "code",
   "execution_count": null,
   "metadata": {},
   "outputs": [],
   "source": [
    "unlabeled_dataset = tasks.data.UnlabeledImageDataset(\n",
    "    parser_func=image_read_func,\n",
    "    preprocessing_func=resnet_preprocessor,\n",
    ")\n",
    "unlabeled_dataset.load_from_image_dataset(target_train_dataset)\n",
    "\n",
    "source_history = try_load_history(os.path.join(ADAPTIVE_MODEL_DIR, \"source_history.pickle\"))\n",
    "target_history = try_load_history(os.path.join(ADAPTIVE_MODEL_DIR, \"target_history.pickle\"))"
   ]
  },
  {
   "cell_type": "code",
   "execution_count": null,
   "metadata": {},
   "outputs": [],
   "source": [
    "if ADAPT_MODEL:\n",
    "    tasks.adaptive_train_eval.train_adaptive_model(\n",
    "        model=model,\n",
    "        criterion=criterion,\n",
    "        optimizer=optimizer_ft,\n",
    "        scheduler=exp_lr_scheduler,\n",
    "        device=device,\n",
    "        source_train_dataset=source_train_dataset,\n",
    "        source_val_dataset=source_val_dataset,\n",
    "        source_dataloader_initializer=lambda dataset: create_padded_dataloader(\n",
    "            dataset, shuffle=True\n",
    "        ),\n",
    "        target_train_dataset=unlabeled_dataset,\n",
    "        target_val_dataset=target_val_dataset,\n",
    "        output_dir=ADAPTIVE_MODEL_DIR,\n",
    "        num_epochs=20,\n",
    "        previous_source_history=source_history,\n",
    "        previous_target_history=target_history,\n",
    "    )"
   ]
  },
  {
   "cell_type": "markdown",
   "metadata": {},
   "source": [
    "## Dustbin"
   ]
  },
  {
   "cell_type": "raw",
   "metadata": {
    "vscode": {
     "languageId": "raw"
    }
   },
   "source": [
    "from tqdm.auto import tqdm\n",
    "\n",
    "output_ls = []\n",
    "# Iterate over batches\n",
    "for inputs, labels in tqdm(source_test_loader):\n",
    "    inputs = inputs.to(device)\n",
    "    labels = labels.to(device)\n",
    "\n",
    "    # Forward pass\n",
    "    with torch.no_grad():\n",
    "        output_ls.append(model(inputs))\n",
    "\n",
    "logits_list = torch.cat(output_ls)"
   ]
  },
  {
   "cell_type": "raw",
   "metadata": {
    "vscode": {
     "languageId": "raw"
    }
   },
   "source": [
    "%load_ext autoreload\n",
    "%autoreload 2\n",
    "\n",
    "\n",
    "import tasks\n",
    "import tasks.calibration\n",
    "\n",
    "tasks.calibration.reliability_diagram(\n",
    "    source_actual, source_predicted, np.array(tasks.calibration.T_scaling(logits_list.cpu(), 1))\n",
    ")"
   ]
  },
  {
   "cell_type": "raw",
   "metadata": {
    "vscode": {
     "languageId": "raw"
    }
   },
   "source": [
    "print(\"Calibrating ideal temperature...\")\n",
    "ideal_temperature = tasks.calibration.calibrate_temperature(\n",
    "    model, source_val_loader, criterion, device, iters=6\n",
    ")\n",
    "print(\"Ideal temperature \", ideal_temperature.item())"
   ]
  },
  {
   "cell_type": "raw",
   "metadata": {
    "vscode": {
     "languageId": "raw"
    }
   },
   "source": [
    "tasks.calibration.reliability_diagram(\n",
    "    source_actual,\n",
    "    source_predicted,\n",
    "    np.array(\n",
    "        tasks.calibration.T_scaling(\n",
    "            logits_list,\n",
    "            ideal_temperature,\n",
    "        ).detach().to(\"cpu\")\n",
    "    ),\n",
    ")"
   ]
  }
 ],
 "metadata": {
  "kernelspec": {
   "display_name": "tf",
   "language": "python",
   "name": "python3"
  },
  "language_info": {
   "codemirror_mode": {
    "name": "ipython",
    "version": 3
   },
   "file_extension": ".py",
   "mimetype": "text/x-python",
   "name": "python",
   "nbconvert_exporter": "python",
   "pygments_lexer": "ipython3",
   "version": "3.9.18"
  }
 },
 "nbformat": 4,
 "nbformat_minor": 2
}
